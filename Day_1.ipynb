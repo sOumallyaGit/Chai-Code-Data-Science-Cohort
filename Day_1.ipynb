{
  "nbformat": 4,
  "nbformat_minor": 0,
  "metadata": {
    "colab": {
      "provenance": []
    },
    "kernelspec": {
      "name": "python3",
      "display_name": "Python 3"
    },
    "language_info": {
      "name": "python"
    }
  },
  "cells": [
    {
      "cell_type": "markdown",
      "source": [
        "# Introduction to Python"
      ],
      "metadata": {
        "id": "sPqTawAnzSt0"
      }
    },
    {
      "cell_type": "markdown",
      "source": [
        "### print Function\n",
        " - By default the print function uses 'end' parameter with a new line('\\n')"
      ],
      "metadata": {
        "id": "PSoiQtSU4COH"
      }
    },
    {
      "cell_type": "code",
      "source": [
        "print(\"Hello World\")"
      ],
      "metadata": {
        "colab": {
          "base_uri": "https://localhost:8080/"
        },
        "id": "iSaPGRuzzWBR",
        "outputId": "76cc5f3a-1354-4c32-e8b4-330ad7220482"
      },
      "execution_count": 1,
      "outputs": [
        {
          "output_type": "stream",
          "name": "stdout",
          "text": [
            "Hello World\n"
          ]
        }
      ]
    },
    {
      "cell_type": "code",
      "source": [
        "print(\"Hello \\nWorld\")"
      ],
      "metadata": {
        "colab": {
          "base_uri": "https://localhost:8080/"
        },
        "id": "BmNS4y9r37Lt",
        "outputId": "2e80107e-bef9-4d20-ef06-eec608b6a90e"
      },
      "execution_count": 3,
      "outputs": [
        {
          "output_type": "stream",
          "name": "stdout",
          "text": [
            "Hello \n",
            "World\n"
          ]
        }
      ]
    },
    {
      "cell_type": "code",
      "source": [
        "print(\"Hello\",end=\" \")\n",
        "print(\"World\")"
      ],
      "metadata": {
        "colab": {
          "base_uri": "https://localhost:8080/"
        },
        "id": "ofXJzvBU4k1x",
        "outputId": "6ac4f423-92bf-42f1-b4b5-8bea399f921f"
      },
      "execution_count": 9,
      "outputs": [
        {
          "output_type": "stream",
          "name": "stdout",
          "text": [
            "Hello World\n"
          ]
        }
      ]
    },
    {
      "cell_type": "code",
      "source": [
        "print(\"Python\",end=\"-\")\n",
        "print(\"Programming\")"
      ],
      "metadata": {
        "colab": {
          "base_uri": "https://localhost:8080/"
        },
        "id": "2cdQGdCo4po9",
        "outputId": "34f45fc7-9240-4b70-f284-73c79c072c44"
      },
      "execution_count": 8,
      "outputs": [
        {
          "output_type": "stream",
          "name": "stdout",
          "text": [
            "Python-Programming\n"
          ]
        }
      ]
    },
    {
      "cell_type": "markdown",
      "source": [
        "- 'sep' parameter"
      ],
      "metadata": {
        "id": "rRTs2B5W5aq2"
      }
    },
    {
      "cell_type": "code",
      "source": [
        "## Without sep parameter\n",
        "print(\"apple\",\"banana\",\"orange\")"
      ],
      "metadata": {
        "colab": {
          "base_uri": "https://localhost:8080/"
        },
        "id": "wTBHO_D85Oq-",
        "outputId": "f93abd61-11e9-42a7-b056-e7682eb2221f"
      },
      "execution_count": 15,
      "outputs": [
        {
          "output_type": "stream",
          "name": "stdout",
          "text": [
            "apple banana orange\n"
          ]
        }
      ]
    },
    {
      "cell_type": "code",
      "source": [
        "## With sep parameter\n",
        "print(\"apple\",\"banana\",\"orange\", sep=\",\")"
      ],
      "metadata": {
        "colab": {
          "base_uri": "https://localhost:8080/"
        },
        "id": "q3htqb5t5tyN",
        "outputId": "6d6d01ad-ec86-44d9-feb4-722d105aeb45"
      },
      "execution_count": 14,
      "outputs": [
        {
          "output_type": "stream",
          "name": "stdout",
          "text": [
            "apple,banana,orange\n"
          ]
        }
      ]
    },
    {
      "cell_type": "markdown",
      "source": [
        "### input() function"
      ],
      "metadata": {
        "id": "uBtMAQMa6r0W"
      }
    },
    {
      "cell_type": "code",
      "source": [
        "user_input = input(\"Enter Your name: \")\n",
        "print(\"Hey \",user_input)"
      ],
      "metadata": {
        "colab": {
          "base_uri": "https://localhost:8080/"
        },
        "id": "rQvEK5H95_Dy",
        "outputId": "47cec937-fbfd-49fd-b354-be5c185a5f76"
      },
      "execution_count": 17,
      "outputs": [
        {
          "output_type": "stream",
          "name": "stdout",
          "text": [
            "Enter Your name: Soumallya\n",
            "Hey  Soumallya\n"
          ]
        }
      ]
    },
    {
      "cell_type": "code",
      "source": [
        "user_input = int(input(\"Enter Your age: \"))\n",
        "print(\"My age is : \",user_input)"
      ],
      "metadata": {
        "colab": {
          "base_uri": "https://localhost:8080/"
        },
        "id": "jQ-iPVnC7CsE",
        "outputId": "28c53c13-0e3c-48a8-d8e3-ce06c58955d8"
      },
      "execution_count": 18,
      "outputs": [
        {
          "output_type": "stream",
          "name": "stdout",
          "text": [
            "Enter Your age: 18\n",
            "My age is :  18\n"
          ]
        }
      ]
    },
    {
      "cell_type": "markdown",
      "source": [
        "### Comments"
      ],
      "metadata": {
        "id": "lxCGcCiL9ML6"
      }
    },
    {
      "cell_type": "code",
      "source": [
        "# This is a single line comment\n",
        "print(\"Hello World\")"
      ],
      "metadata": {
        "colab": {
          "base_uri": "https://localhost:8080/"
        },
        "id": "SOiEDbSi9NRR",
        "outputId": "954fd274-e41b-486a-a816-33e3908e9052"
      },
      "execution_count": 19,
      "outputs": [
        {
          "output_type": "stream",
          "name": "stdout",
          "text": [
            "Hello World\n"
          ]
        }
      ]
    },
    {
      "cell_type": "code",
      "source": [
        "'''\n",
        "This is a multi line comment, it is encolsed with in triple quotes.\n",
        "This is useful mainly for documenting larger section of the code.\n",
        "'''\n",
        "print(\"Execution of multiline comments\")"
      ],
      "metadata": {
        "colab": {
          "base_uri": "https://localhost:8080/"
        },
        "id": "RxN-It-h90pm",
        "outputId": "0e9ca98c-25b1-43e0-a668-931ef7665050"
      },
      "execution_count": 20,
      "outputs": [
        {
          "output_type": "stream",
          "name": "stdout",
          "text": [
            "Execution of multiline comments\n"
          ]
        }
      ]
    },
    {
      "cell_type": "markdown",
      "source": [
        "### Indentation\n",
        "\n",
        "It defines the structure of the code block"
      ],
      "metadata": {
        "id": "ya25qkVi-b2o"
      }
    },
    {
      "cell_type": "code",
      "source": [
        "x = 5\n",
        "if x > 3:\n",
        "  '''\n",
        "  indentation is used before print statement\n",
        "  if we remove this we will get indentation error\n",
        "  '''\n",
        "  print(\"x is greater than 3\")"
      ],
      "metadata": {
        "colab": {
          "base_uri": "https://localhost:8080/"
        },
        "id": "heQ0tT_s-OUa",
        "outputId": "d036f683-c584-4195-b23c-c0e4a4f5b9d6"
      },
      "execution_count": 24,
      "outputs": [
        {
          "output_type": "stream",
          "name": "stdout",
          "text": [
            "x is greater than 3\n"
          ]
        }
      ]
    },
    {
      "cell_type": "markdown",
      "source": [
        "### Legal Variable name\n",
        "Set of rules defined for variable naming\n",
        "\n",
        "1. Letters(a-z,A-Z)\n",
        "2. Digits(0-9)\n",
        "3. It can contain letters digits and '_' also\n",
        "4. Variable should start with letter and '_' only\n",
        "5. Python variables are case sensitive, this means lower and upper case variables are treated individually\n",
        "6. Key words can not be variable.\n",
        "example - for , while\n",
        "7.  Multvariable initialization at a single processing is allowed"
      ],
      "metadata": {
        "id": "qJNhUdUj_l9E"
      }
    },
    {
      "cell_type": "code",
      "source": [
        "# 0priya = 10 This is not allowed"
      ],
      "metadata": {
        "id": "PNSNrt0C-xil"
      },
      "execution_count": 25,
      "outputs": []
    },
    {
      "cell_type": "code",
      "source": [
        "## Rules 5 example\n",
        "my_name = \"Soumallya\"\n",
        "My_name = \" Pritha\"\n",
        "print(my_name,My_name) ## Two are treated diffrently"
      ],
      "metadata": {
        "colab": {
          "base_uri": "https://localhost:8080/"
        },
        "id": "QP1Zk493ADQU",
        "outputId": "5eaa0ca2-1274-4483-b59e-2c4a6c19ed69"
      },
      "execution_count": 26,
      "outputs": [
        {
          "output_type": "stream",
          "name": "stdout",
          "text": [
            "Soumallya  Pritha\n"
          ]
        }
      ]
    },
    {
      "cell_type": "code",
      "source": [
        "## Multvariable initialization at a single processing\n",
        "x,y,z = 10,20,30\n",
        "print(x,y,z)\n",
        "\n",
        "## Another way\n",
        "a = b = c = \"Soumallya\"\n",
        "print(a,b,c)"
      ],
      "metadata": {
        "colab": {
          "base_uri": "https://localhost:8080/"
        },
        "id": "B4VvCnqXAa05",
        "outputId": "9cbcd5fe-9976-432f-a5ca-7d900f826ec9"
      },
      "execution_count": 29,
      "outputs": [
        {
          "output_type": "stream",
          "name": "stdout",
          "text": [
            "10 20 30\n",
            "Soumallya Soumallya Soumallya\n"
          ]
        }
      ]
    },
    {
      "cell_type": "markdown",
      "source": [
        "## Data Types\n",
        "\n",
        "Meaning of data types : Simply examines the nature of the data that any variable can hold"
      ],
      "metadata": {
        "id": "ITz0Hiu5B5DM"
      }
    },
    {
      "cell_type": "markdown",
      "source": [
        "### **1** . Numbers"
      ],
      "metadata": {
        "id": "RvLyUPnsCZIG"
      }
    },
    {
      "cell_type": "code",
      "source": [
        "## Numbers\n",
        "\n",
        "x = 10 ##int\n",
        "y = 3.14 ## float\n",
        "z = 2+3j ## complex"
      ],
      "metadata": {
        "id": "PyQLX3vlA42I"
      },
      "execution_count": 30,
      "outputs": []
    },
    {
      "cell_type": "code",
      "source": [
        "type(z)"
      ],
      "metadata": {
        "colab": {
          "base_uri": "https://localhost:8080/"
        },
        "id": "Qh7SBBZwCTta",
        "outputId": "2d244fc3-8c6e-4d5a-ae54-ecfdb62e3a60"
      },
      "execution_count": 31,
      "outputs": [
        {
          "output_type": "execute_result",
          "data": {
            "text/plain": [
              "complex"
            ]
          },
          "metadata": {},
          "execution_count": 31
        }
      ]
    },
    {
      "cell_type": "code",
      "source": [
        "type(y)"
      ],
      "metadata": {
        "colab": {
          "base_uri": "https://localhost:8080/"
        },
        "id": "K3lDGAS6CWWM",
        "outputId": "6242bbb9-bb02-4b4d-fe84-bc7c06acd70b"
      },
      "execution_count": 32,
      "outputs": [
        {
          "output_type": "execute_result",
          "data": {
            "text/plain": [
              "float"
            ]
          },
          "metadata": {},
          "execution_count": 32
        }
      ]
    },
    {
      "cell_type": "code",
      "source": [
        "type(x)"
      ],
      "metadata": {
        "colab": {
          "base_uri": "https://localhost:8080/"
        },
        "id": "pU859V2cCXqb",
        "outputId": "7536bcab-36d2-4260-a92e-cbe1d87398ad"
      },
      "execution_count": 33,
      "outputs": [
        {
          "output_type": "execute_result",
          "data": {
            "text/plain": [
              "int"
            ]
          },
          "metadata": {},
          "execution_count": 33
        }
      ]
    },
    {
      "cell_type": "code",
      "source": [
        "z.real"
      ],
      "metadata": {
        "colab": {
          "base_uri": "https://localhost:8080/"
        },
        "id": "v8RqJjSnCXM9",
        "outputId": "4c896496-c2f8-4176-9c75-9dcb823730f3"
      },
      "execution_count": 35,
      "outputs": [
        {
          "output_type": "execute_result",
          "data": {
            "text/plain": [
              "2.0"
            ]
          },
          "metadata": {},
          "execution_count": 35
        }
      ]
    },
    {
      "cell_type": "code",
      "source": [
        "z.imag"
      ],
      "metadata": {
        "colab": {
          "base_uri": "https://localhost:8080/"
        },
        "id": "ZGBIcNsOCrGE",
        "outputId": "0fae029d-851b-4733-f79f-c071eec55e81"
      },
      "execution_count": 36,
      "outputs": [
        {
          "output_type": "execute_result",
          "data": {
            "text/plain": [
              "3.0"
            ]
          },
          "metadata": {},
          "execution_count": 36
        }
      ]
    },
    {
      "cell_type": "markdown",
      "source": [
        "### **2** . String\n",
        "\n",
        "- Sequence of characters characters enclosed within single or double quotes"
      ],
      "metadata": {
        "id": "uhHqGgiJCw58"
      }
    },
    {
      "cell_type": "code",
      "source": [
        "name = \"Princess\"\n",
        "type(name)"
      ],
      "metadata": {
        "colab": {
          "base_uri": "https://localhost:8080/"
        },
        "id": "xlr8YkqtCwtL",
        "outputId": "2d82d355-4f48-41ec-b59c-b6f578b810db"
      },
      "execution_count": 37,
      "outputs": [
        {
          "output_type": "execute_result",
          "data": {
            "text/plain": [
              "str"
            ]
          },
          "metadata": {},
          "execution_count": 37
        }
      ]
    },
    {
      "cell_type": "code",
      "source": [],
      "metadata": {
        "id": "-gdENxDDCuUZ"
      },
      "execution_count": null,
      "outputs": []
    }
  ]
}