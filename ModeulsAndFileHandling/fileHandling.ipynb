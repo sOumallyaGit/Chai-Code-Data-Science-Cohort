{
 "cells": [
  {
   "cell_type": "code",
   "execution_count": null,
   "id": "2da34f86",
   "metadata": {},
   "outputs": [
    {
     "name": "stdout",
     "output_type": "stream",
     "text": [
      "My name is soumallya Chandra chandra and i am a failure\n"
     ]
    }
   ],
   "source": [
    "file = open(\"/Users/soumallyachandra/Desktop/Chai Code Machine Learning Cohort/ModeulsAndFileHandling/hello.txt\",'r')\n",
    "content = file.read()\n",
    "print(content)"
   ]
  },
  {
   "cell_type": "code",
   "execution_count": 6,
   "id": "2380038e",
   "metadata": {},
   "outputs": [
    {
     "name": "stdout",
     "output_type": "stream",
     "text": [
      "My nam\n"
     ]
    }
   ],
   "source": [
    "file = open(\"/Users/soumallyachandra/Desktop/Chai Code Machine Learning Cohort/ModeulsAndFileHandling/hello.txt\",'r')\n",
    "print(file.read(6))"
   ]
  },
  {
   "cell_type": "code",
   "execution_count": null,
   "id": "a899d720",
   "metadata": {},
   "outputs": [
    {
     "name": "stdout",
     "output_type": "stream",
     "text": [
      "My name is soumallya Chandra chandra and i am a failure\n"
     ]
    }
   ],
   "source": [
    "file = open(\"/Users/soumallyachandra/Desktop/Chai Code Machine Learning Cohort/ModeulsAndFileHandling/hello.txt\",'r')\n",
    "print(file.readline())\n",
    "## Returns a single line"
   ]
  },
  {
   "cell_type": "code",
   "execution_count": null,
   "id": "8b2d7979",
   "metadata": {},
   "outputs": [
    {
     "name": "stdout",
     "output_type": "stream",
     "text": [
      "['My name is soumallya Chandra chandra and i am a failure']\n"
     ]
    }
   ],
   "source": [
    "file = open(\"/Users/soumallyachandra/Desktop/Chai Code Machine Learning Cohort/ModeulsAndFileHandling/hello.txt\",'r')\n",
    "print(file.readlines())\n",
    "## returns list of lines"
   ]
  },
  {
   "cell_type": "code",
   "execution_count": 10,
   "id": "4e880183",
   "metadata": {},
   "outputs": [
    {
     "name": "stdout",
     "output_type": "stream",
     "text": [
      "My name is soumallya Chandra chandra and i am a failure\n"
     ]
    }
   ],
   "source": [
    "file = open(\"/Users/soumallyachandra/Desktop/Chai Code Machine Learning Cohort/ModeulsAndFileHandling/hello.txt\",'r')\n",
    "for line in file.readlines():\n",
    "    print(line)"
   ]
  },
  {
   "cell_type": "markdown",
   "id": "e35bbcd8",
   "metadata": {},
   "source": [
    "#### Creating fresh new file"
   ]
  },
  {
   "cell_type": "code",
   "execution_count": 5,
   "id": "ca987932",
   "metadata": {},
   "outputs": [
    {
     "name": "stdout",
     "output_type": "stream",
     "text": [
      "File already exists\n"
     ]
    }
   ],
   "source": [
    "try:\n",
    "    file = open('/Users/soumallyachandra/Desktop/Chai Code Machine Learning Cohort/ModeulsAndFileHandling/hello2.txt','x')\n",
    "    file.write(\"Hey how are you\")\n",
    "except FileExistsError:\n",
    "    print(\"File already exists\")\n",
    "else :\n",
    "    file.seek(0)\n",
    "    content = file.read()\n",
    "    print(content)\n",
    "finally:\n",
    "    file.close()"
   ]
  },
  {
   "cell_type": "markdown",
   "id": "2e8c66bd",
   "metadata": {},
   "source": [
    "### Delete a file"
   ]
  },
  {
   "cell_type": "code",
   "execution_count": 7,
   "id": "e233089c",
   "metadata": {},
   "outputs": [
    {
     "name": "stdout",
     "output_type": "stream",
     "text": [
      "File Not found at /Users/soumallyachandra/Desktop/Chai Code Machine Learning Cohort/ModeulsAndFileHandling/hello2.txt\n"
     ]
    }
   ],
   "source": [
    "import os\n",
    "\n",
    "file_path = \"/Users/soumallyachandra/Desktop/Chai Code Machine Learning Cohort/ModeulsAndFileHandling/hello2.txt\"\n",
    "\n",
    "try:\n",
    "    # Code to delete file\n",
    "    os.remove(file_path)\n",
    "    print(f\"File deleted at {file_path}\")\n",
    "except FileNotFoundError:\n",
    "    print(f\"File Not found at {file_path}\")\n",
    "except PermissionError:\n",
    "    print(f\"You dont have permission to delete {file_path}\")\n",
    "except Exception:\n",
    "    print(\"Unexpected error occured\")"
   ]
  }
 ],
 "metadata": {
  "kernelspec": {
   "display_name": "Python 3",
   "language": "python",
   "name": "python3"
  },
  "language_info": {
   "codemirror_mode": {
    "name": "ipython",
    "version": 3
   },
   "file_extension": ".py",
   "mimetype": "text/x-python",
   "name": "python",
   "nbconvert_exporter": "python",
   "pygments_lexer": "ipython3",
   "version": "3.12.4"
  }
 },
 "nbformat": 4,
 "nbformat_minor": 5
}
