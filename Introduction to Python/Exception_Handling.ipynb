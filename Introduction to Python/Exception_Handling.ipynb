{
  "nbformat": 4,
  "nbformat_minor": 0,
  "metadata": {
    "colab": {
      "provenance": []
    },
    "kernelspec": {
      "name": "python3",
      "display_name": "Python 3"
    },
    "language_info": {
      "name": "python"
    }
  },
  "cells": [
    {
      "cell_type": "markdown",
      "source": [
        "## **Erros**"
      ],
      "metadata": {
        "id": "tEl_jB0JDKrO"
      }
    },
    {
      "cell_type": "markdown",
      "source": [
        "### **Logical Error**"
      ],
      "metadata": {
        "id": "J0Gsr2rCDHTF"
      }
    },
    {
      "cell_type": "code",
      "execution_count": null,
      "metadata": {
        "colab": {
          "base_uri": "https://localhost:8080/"
        },
        "id": "cNy0WEVUBLw8",
        "outputId": "099db7fa-7617-4ffa-9c1a-2c823d50928e"
      },
      "outputs": [
        {
          "output_type": "stream",
          "name": "stdout",
          "text": [
            "15\n"
          ]
        }
      ],
      "source": [
        "length = 10\n",
        "width = 5\n",
        "\n",
        "area = length + width # This is a logical error insetad of multiplying we did addition\n",
        "print(area)"
      ]
    },
    {
      "cell_type": "markdown",
      "source": [
        "### **Runtime Error**"
      ],
      "metadata": {
        "id": "pUypFRCYDbhD"
      }
    },
    {
      "cell_type": "code",
      "source": [
        "num = 0\n",
        "division = 10 / num ## Somtimes on the basis on num value it is giving error for example 0\n",
        "print(division)"
      ],
      "metadata": {
        "colab": {
          "base_uri": "https://localhost:8080/",
          "height": 211
        },
        "id": "A3sSj4DnDZk3",
        "outputId": "4648afde-de90-4b49-ee5b-66f169038283"
      },
      "execution_count": null,
      "outputs": [
        {
          "output_type": "error",
          "ename": "ZeroDivisionError",
          "evalue": "division by zero",
          "traceback": [
            "\u001b[0;31m---------------------------------------------------------------------------\u001b[0m",
            "\u001b[0;31mZeroDivisionError\u001b[0m                         Traceback (most recent call last)",
            "\u001b[0;32m<ipython-input-3-d36a8013a5a4>\u001b[0m in \u001b[0;36m<cell line: 0>\u001b[0;34m()\u001b[0m\n\u001b[1;32m      1\u001b[0m \u001b[0mnum\u001b[0m \u001b[0;34m=\u001b[0m \u001b[0;36m0\u001b[0m\u001b[0;34m\u001b[0m\u001b[0;34m\u001b[0m\u001b[0m\n\u001b[0;32m----> 2\u001b[0;31m \u001b[0mdivision\u001b[0m \u001b[0;34m=\u001b[0m \u001b[0;36m10\u001b[0m \u001b[0;34m/\u001b[0m \u001b[0mnum\u001b[0m\u001b[0;34m\u001b[0m\u001b[0;34m\u001b[0m\u001b[0m\n\u001b[0m\u001b[1;32m      3\u001b[0m \u001b[0mprint\u001b[0m\u001b[0;34m(\u001b[0m\u001b[0mdivision\u001b[0m\u001b[0;34m)\u001b[0m\u001b[0;34m\u001b[0m\u001b[0;34m\u001b[0m\u001b[0m\n",
            "\u001b[0;31mZeroDivisionError\u001b[0m: division by zero"
          ]
        }
      ]
    },
    {
      "cell_type": "markdown",
      "source": [
        "### **Syntax Error**"
      ],
      "metadata": {
        "id": "dCzn2beyDxxR"
      }
    },
    {
      "cell_type": "code",
      "source": [
        "num = 5\n",
        "if num>0\n",
        "  print(\"true\")"
      ],
      "metadata": {
        "colab": {
          "base_uri": "https://localhost:8080/",
          "height": 106
        },
        "id": "qY3CsuCSDqEy",
        "outputId": "deefefbe-d47b-410d-ca40-0296695f904f"
      },
      "execution_count": null,
      "outputs": [
        {
          "output_type": "error",
          "ename": "SyntaxError",
          "evalue": "expected ':' (<ipython-input-6-62c48255e70c>, line 2)",
          "traceback": [
            "\u001b[0;36m  File \u001b[0;32m\"<ipython-input-6-62c48255e70c>\"\u001b[0;36m, line \u001b[0;32m2\u001b[0m\n\u001b[0;31m    if num>0\u001b[0m\n\u001b[0m            ^\u001b[0m\n\u001b[0;31mSyntaxError\u001b[0m\u001b[0;31m:\u001b[0m expected ':'\n"
          ]
        }
      ]
    },
    {
      "cell_type": "markdown",
      "source": [
        "### **Try Catch**"
      ],
      "metadata": {
        "id": "aj5pYE0qWtLv"
      }
    },
    {
      "cell_type": "code",
      "source": [
        "try :\n",
        "  num = int(input(\"Enter a number: \"))\n",
        "  result = 10/num\n",
        "except ValueError:\n",
        "  print(\"You must enter a valid integer\")\n",
        "except ZeroDivisionError:\n",
        "  print(\"Cannot divide by zero\")\n",
        "else :\n",
        "  print(f\"Result is {result}\")\n",
        "finally:\n",
        "  print(\"Execution completed\")"
      ],
      "metadata": {
        "id": "R09Zd9r9D7BA",
        "colab": {
          "base_uri": "https://localhost:8080/"
        },
        "outputId": "e5fa380d-481f-4e33-e176-0cee9aa8f8eb"
      },
      "execution_count": 6,
      "outputs": [
        {
          "output_type": "stream",
          "name": "stdout",
          "text": [
            "Enter a number: soumallya\n",
            "You must enter a valid integer\n",
            "Execution completed\n"
          ]
        }
      ]
    },
    {
      "cell_type": "code",
      "source": [
        "my_list = [1,2,3,4,5,6,7,8,9,10]\n",
        "try:\n",
        "  number = int(input(\"Enter the index you want to access : \"))\n",
        "  my_list[number]\n",
        "except IndexError:\n",
        "  print(\"Index Out of range\")\n",
        "else :\n",
        "  print(f\"You element is {my_list[number]}\")\n",
        "finally :\n",
        "  print(\"Execution completed\")"
      ],
      "metadata": {
        "colab": {
          "base_uri": "https://localhost:8080/"
        },
        "id": "ESmqwsAVXESZ",
        "outputId": "502f936e-e1f3-4c21-bb02-98b11f06ff16"
      },
      "execution_count": 11,
      "outputs": [
        {
          "output_type": "stream",
          "name": "stdout",
          "text": [
            "Enter the index you want to access : 11\n",
            "Index Out of range\n",
            "Execution completed\n"
          ]
        }
      ]
    },
    {
      "cell_type": "code",
      "source": [
        "my_dict = {\"name\" :\"Priya\",\"age\":26}\n",
        "\n",
        "try :\n",
        "  key = input(\"Enter the key you want to access :\")\n",
        "  my_dict[key]\n",
        "except KeyError:\n",
        "  print(\"Key not available\")\n",
        "else :\n",
        "  print(f\"The value of {key} is {my_dict[key]}\")\n",
        "finally :\n",
        "  print(\"Execution completed\")"
      ],
      "metadata": {
        "colab": {
          "base_uri": "https://localhost:8080/"
        },
        "id": "XHxVxRgAbPxC",
        "outputId": "c757cce1-3aa6-4aa0-a460-52aec4637831"
      },
      "execution_count": 14,
      "outputs": [
        {
          "output_type": "stream",
          "name": "stdout",
          "text": [
            "Enter the key you want to access :city\n",
            "Key not available\n",
            "Execution completed\n"
          ]
        }
      ]
    },
    {
      "cell_type": "code",
      "source": [],
      "metadata": {
        "id": "WXOQbUs3cbIs"
      },
      "execution_count": null,
      "outputs": []
    }
  ]
}