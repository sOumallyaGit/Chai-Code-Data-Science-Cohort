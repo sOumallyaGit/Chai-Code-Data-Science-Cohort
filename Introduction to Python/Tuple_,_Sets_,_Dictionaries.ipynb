{
  "nbformat": 4,
  "nbformat_minor": 0,
  "metadata": {
    "colab": {
      "provenance": []
    },
    "kernelspec": {
      "name": "python3",
      "display_name": "Python 3"
    },
    "language_info": {
      "name": "python"
    }
  },
  "cells": [
    {
      "cell_type": "markdown",
      "source": [
        "## **Tuples**"
      ],
      "metadata": {
        "id": "0swD7OkZm106"
      }
    },
    {
      "cell_type": "code",
      "execution_count": 38,
      "metadata": {
        "colab": {
          "base_uri": "https://localhost:8080/"
        },
        "id": "WrOG6URtlozA",
        "outputId": "3dfb6358-e6c6-432f-e651-db36967e946c"
      },
      "outputs": [
        {
          "output_type": "execute_result",
          "data": {
            "text/plain": [
              "tuple"
            ]
          },
          "metadata": {},
          "execution_count": 38
        }
      ],
      "source": [
        "my_tuple = (1,2,3)\n",
        "type(my_tuple)"
      ]
    },
    {
      "cell_type": "code",
      "source": [
        "my_tuple[1]"
      ],
      "metadata": {
        "colab": {
          "base_uri": "https://localhost:8080/"
        },
        "id": "OjczcIhEo7nq",
        "outputId": "b25ec795-e0d2-4435-86d6-c138ab0fa3da"
      },
      "execution_count": 2,
      "outputs": [
        {
          "output_type": "execute_result",
          "data": {
            "text/plain": [
              "2"
            ]
          },
          "metadata": {},
          "execution_count": 2
        }
      ]
    },
    {
      "cell_type": "code",
      "source": [
        "tuple_new = ('apple',123,True,3.14,[1,2,3])\n",
        "print(tuple_new[-1][1])"
      ],
      "metadata": {
        "colab": {
          "base_uri": "https://localhost:8080/"
        },
        "id": "dM2mY3NLpFvW",
        "outputId": "06674b29-fc8e-42ca-fd43-cfc105991351"
      },
      "execution_count": 6,
      "outputs": [
        {
          "output_type": "stream",
          "name": "stdout",
          "text": [
            "2\n"
          ]
        }
      ]
    },
    {
      "cell_type": "code",
      "source": [
        "## Tuple slicing\n",
        "print(tuple_new[1:4])"
      ],
      "metadata": {
        "colab": {
          "base_uri": "https://localhost:8080/"
        },
        "id": "Xi2nUP6wpJtn",
        "outputId": "aa9c4340-f01a-4f77-8c9d-95d4959dbf91"
      },
      "execution_count": 8,
      "outputs": [
        {
          "output_type": "stream",
          "name": "stdout",
          "text": [
            "(123, True, 3.14)\n"
          ]
        }
      ]
    },
    {
      "cell_type": "code",
      "source": [
        "## End point specified\n",
        "print(tuple_new[:-1])"
      ],
      "metadata": {
        "colab": {
          "base_uri": "https://localhost:8080/"
        },
        "id": "7LgDsIwRqADz",
        "outputId": "fb7ce246-a498-4d79-8681-06cb0fc8ec33"
      },
      "execution_count": 9,
      "outputs": [
        {
          "output_type": "stream",
          "name": "stdout",
          "text": [
            "('apple', 123, True, 3.14)\n"
          ]
        }
      ]
    },
    {
      "cell_type": "code",
      "source": [
        "## Step size specified\n",
        "print(tuple_new[::-1])"
      ],
      "metadata": {
        "colab": {
          "base_uri": "https://localhost:8080/"
        },
        "id": "gvGOGRlyqcQj",
        "outputId": "29933386-5ca8-4b84-ae3a-5ba00de8423e"
      },
      "execution_count": 10,
      "outputs": [
        {
          "output_type": "stream",
          "name": "stdout",
          "text": [
            "([1, 2, 3], 3.14, True, 123, 'apple')\n"
          ]
        }
      ]
    },
    {
      "cell_type": "markdown",
      "source": [
        "### **Built-in functions**"
      ],
      "metadata": {
        "id": "9NWT0rKZrDGp"
      }
    },
    {
      "cell_type": "code",
      "source": [
        "## Minimum of tuple\n",
        "min_element = min(my_tuple)\n",
        "print(min_element)"
      ],
      "metadata": {
        "colab": {
          "base_uri": "https://localhost:8080/"
        },
        "id": "tyTCDeqiq2SM",
        "outputId": "e3342c57-8b2c-4c9e-842c-ff8f89815386"
      },
      "execution_count": 13,
      "outputs": [
        {
          "output_type": "stream",
          "name": "stdout",
          "text": [
            "1\n"
          ]
        }
      ]
    },
    {
      "cell_type": "code",
      "source": [
        "## Maximum of tuple\n",
        "max_element = max(my_tuple)\n",
        "print(max_element)"
      ],
      "metadata": {
        "colab": {
          "base_uri": "https://localhost:8080/"
        },
        "id": "XsTOIKOSrRRq",
        "outputId": "83d4ad62-6c2f-4df9-b5b4-76faafdf3c40"
      },
      "execution_count": 15,
      "outputs": [
        {
          "output_type": "stream",
          "name": "stdout",
          "text": [
            "3\n"
          ]
        }
      ]
    },
    {
      "cell_type": "code",
      "source": [
        "## Sum of a tuple\n",
        "sum_element = sum(my_tuple)\n",
        "print(sum_element)"
      ],
      "metadata": {
        "colab": {
          "base_uri": "https://localhost:8080/"
        },
        "id": "sD7-tjUWralm",
        "outputId": "eb8b12de-3994-4b37-dc79-9aea3f34d3f0"
      },
      "execution_count": 16,
      "outputs": [
        {
          "output_type": "stream",
          "name": "stdout",
          "text": [
            "6\n"
          ]
        }
      ]
    },
    {
      "cell_type": "code",
      "source": [
        "## Count function\n",
        "my_tuple2 = (1,2,1,3,4,5)\n",
        "count_element = my_tuple2.count(1)\n",
        "print(count_element)\n",
        "print(my_tuple2.count(1))"
      ],
      "metadata": {
        "colab": {
          "base_uri": "https://localhost:8080/"
        },
        "id": "frYMSErlttjG",
        "outputId": "29b28b37-d623-450a-a6f4-5ed1ebfda97b"
      },
      "execution_count": 28,
      "outputs": [
        {
          "output_type": "stream",
          "name": "stdout",
          "text": [
            "2\n",
            "2\n"
          ]
        }
      ]
    },
    {
      "cell_type": "code",
      "source": [
        "## index of element in tuple\n",
        "pos = my_tuple2.index(3)\n",
        "print(pos)"
      ],
      "metadata": {
        "colab": {
          "base_uri": "https://localhost:8080/"
        },
        "id": "tMIbw0FCuYdt",
        "outputId": "2c99155e-7769-40b5-82f4-fba4b6db4ae7"
      },
      "execution_count": 27,
      "outputs": [
        {
          "output_type": "stream",
          "name": "stdout",
          "text": [
            "3\n"
          ]
        }
      ]
    },
    {
      "cell_type": "markdown",
      "source": [
        "### **Conversion Tuple to list, List to Tuple**"
      ],
      "metadata": {
        "id": "ql02GNYasJXv"
      }
    },
    {
      "cell_type": "code",
      "source": [
        "tuple2 = (\"Soumallya\",\"Pritha\",\"Princess\",\"Roni\")\n",
        "my_list = list(tuple2)\n",
        "print(my_list)"
      ],
      "metadata": {
        "colab": {
          "base_uri": "https://localhost:8080/"
        },
        "id": "0skIGm5IsEP4",
        "outputId": "0a2cf92f-d29e-43bb-86bb-7e943bd8ae9a"
      },
      "execution_count": 17,
      "outputs": [
        {
          "output_type": "stream",
          "name": "stdout",
          "text": [
            "['Soumallya', 'Pritha', 'Princess', 'Roni']\n"
          ]
        }
      ]
    },
    {
      "cell_type": "code",
      "source": [
        "my_list.extend([\"Prapti\",\"Ramij\",\"Subha\"])\n",
        "print(my_list)"
      ],
      "metadata": {
        "colab": {
          "base_uri": "https://localhost:8080/"
        },
        "id": "hKlgf58Vs4BU",
        "outputId": "139113cd-c77f-405a-f5e9-9d8ad2ac328b"
      },
      "execution_count": 20,
      "outputs": [
        {
          "output_type": "stream",
          "name": "stdout",
          "text": [
            "['Soumallya', 'Pritha', 'Princess', 'Roni', 'Prapti', 'Ramij', 'Subha']\n"
          ]
        }
      ]
    },
    {
      "cell_type": "code",
      "source": [
        "tuple2 = tuple(my_list)\n",
        "print(tuple2)"
      ],
      "metadata": {
        "colab": {
          "base_uri": "https://localhost:8080/"
        },
        "id": "ZFHMOVhztDBm",
        "outputId": "66221569-ac8f-4de5-d101-f9610b001a3f"
      },
      "execution_count": 22,
      "outputs": [
        {
          "output_type": "stream",
          "name": "stdout",
          "text": [
            "('Soumallya', 'Pritha', 'Princess', 'Roni', 'Prapti', 'Ramij', 'Subha')\n"
          ]
        }
      ]
    },
    {
      "cell_type": "code",
      "source": [
        "## Packing and unpacking\n",
        "a, b, c = my_tuple\n",
        "print(a)\n",
        "print(b)\n",
        "print(c)"
      ],
      "metadata": {
        "colab": {
          "base_uri": "https://localhost:8080/"
        },
        "id": "MI2I8hpS10g-",
        "outputId": "b1c68c89-17a7-4e07-9a03-72fd5b938125"
      },
      "execution_count": 41,
      "outputs": [
        {
          "output_type": "stream",
          "name": "stdout",
          "text": [
            "1\n",
            "2\n",
            "3\n"
          ]
        }
      ]
    },
    {
      "cell_type": "code",
      "source": [
        "## Packing and unpacking\n",
        "my_tuple = (1,2,3,4)\n",
        "a,*b,c = my_tuple\n",
        "print(a)\n",
        "print(b)\n",
        "print(c)"
      ],
      "metadata": {
        "colab": {
          "base_uri": "https://localhost:8080/"
        },
        "id": "FMGna7T8temP",
        "outputId": "47ab861d-dc9c-4244-eb6f-06bf63746ce6"
      },
      "execution_count": 65,
      "outputs": [
        {
          "output_type": "stream",
          "name": "stdout",
          "text": [
            "1\n",
            "[2, 3]\n",
            "4\n"
          ]
        }
      ]
    },
    {
      "cell_type": "code",
      "source": [
        "## Combined tuple\n",
        "tuple1 = (1,2,3)\n",
        "tuple2 = (4,5,6)\n",
        "tuple3 = tuple1 + tuple2\n",
        "print(tuple3)"
      ],
      "metadata": {
        "colab": {
          "base_uri": "https://localhost:8080/"
        },
        "id": "UeGcxTeg2AIE",
        "outputId": "f81051d3-17a6-4cba-e6a4-14638175c874"
      },
      "execution_count": 66,
      "outputs": [
        {
          "output_type": "stream",
          "name": "stdout",
          "text": [
            "(1, 2, 3, 4, 5, 6)\n"
          ]
        }
      ]
    },
    {
      "cell_type": "code",
      "source": [
        "tuple2 = (7 ,) ## This is a tuple\n",
        "tup3 = (8) ## This is not a tuple\n",
        "print(tuple2)\n",
        "print(type(tuple2))\n",
        "print(type(tup3))"
      ],
      "metadata": {
        "colab": {
          "base_uri": "https://localhost:8080/"
        },
        "id": "XDxHe3a32bKj",
        "outputId": "bedfa1c3-d012-4396-cc84-92ba7e422b55"
      },
      "execution_count": 67,
      "outputs": [
        {
          "output_type": "stream",
          "name": "stdout",
          "text": [
            "(7,)\n",
            "<class 'tuple'>\n",
            "<class 'int'>\n"
          ]
        }
      ]
    },
    {
      "cell_type": "markdown",
      "source": [
        "## **Sets**"
      ],
      "metadata": {
        "id": "k2O1LlQOzqpv"
      }
    },
    {
      "cell_type": "code",
      "source": [
        "set1 = set() ## Empty original set\n",
        "## Sets are changeable\n",
        "\n",
        "set2 = {1,2,3}\n",
        "\n",
        "set3 = {1,\"one\",3.4}"
      ],
      "metadata": {
        "id": "5SrgvQY9zt5w"
      },
      "execution_count": 29,
      "outputs": []
    },
    {
      "cell_type": "code",
      "source": [
        "print(set2)"
      ],
      "metadata": {
        "colab": {
          "base_uri": "https://localhost:8080/"
        },
        "id": "BZSuYXtd0Foq",
        "outputId": "69ee7efc-e0cd-4bdb-d913-2efa0e8c65cf"
      },
      "execution_count": 30,
      "outputs": [
        {
          "output_type": "stream",
          "name": "stdout",
          "text": [
            "{1, 2, 3}\n"
          ]
        }
      ]
    },
    {
      "cell_type": "code",
      "source": [
        "type(set3)"
      ],
      "metadata": {
        "colab": {
          "base_uri": "https://localhost:8080/"
        },
        "id": "41o-Tce_0G93",
        "outputId": "05621d0e-582a-43b4-99f2-c76bcdb6cf22"
      },
      "execution_count": 31,
      "outputs": [
        {
          "output_type": "execute_result",
          "data": {
            "text/plain": [
              "set"
            ]
          },
          "metadata": {},
          "execution_count": 31
        }
      ]
    },
    {
      "cell_type": "code",
      "source": [
        "set4 = {1,2,31,1,1,4}"
      ],
      "metadata": {
        "id": "XC55EMYR0IQi"
      },
      "execution_count": 32,
      "outputs": []
    },
    {
      "cell_type": "code",
      "source": [
        "print(set4)"
      ],
      "metadata": {
        "colab": {
          "base_uri": "https://localhost:8080/"
        },
        "id": "7kd7aaTz0LbU",
        "outputId": "5e811e1b-7d71-40fa-9332-f44b76b73423"
      },
      "execution_count": 34,
      "outputs": [
        {
          "output_type": "stream",
          "name": "stdout",
          "text": [
            "{1, 2, 4, 31}\n"
          ]
        }
      ]
    },
    {
      "cell_type": "code",
      "source": [
        "my_string = \"hello\"\n",
        "myset = set(my_string)\n",
        "print(myset)"
      ],
      "metadata": {
        "colab": {
          "base_uri": "https://localhost:8080/"
        },
        "id": "X9OIN7Zl0MRJ",
        "outputId": "80b7b199-887a-49c1-c356-9917a35be832"
      },
      "execution_count": 35,
      "outputs": [
        {
          "output_type": "stream",
          "name": "stdout",
          "text": [
            "{'e', 'o', 'h', 'l'}\n"
          ]
        }
      ]
    },
    {
      "cell_type": "code",
      "source": [
        "print('e' in myset)"
      ],
      "metadata": {
        "colab": {
          "base_uri": "https://localhost:8080/"
        },
        "id": "wzVh5M1e1c5N",
        "outputId": "dab5ca53-8758-4d0f-f82d-f5a258d3c3e0"
      },
      "execution_count": 42,
      "outputs": [
        {
          "output_type": "stream",
          "name": "stdout",
          "text": [
            "True\n"
          ]
        }
      ]
    },
    {
      "cell_type": "code",
      "source": [
        "len(myset)"
      ],
      "metadata": {
        "colab": {
          "base_uri": "https://localhost:8080/"
        },
        "id": "ORiiZTL42JIL",
        "outputId": "e66b9ffe-9ec9-41bc-9a56-62e2c91803ec"
      },
      "execution_count": 43,
      "outputs": [
        {
          "output_type": "execute_result",
          "data": {
            "text/plain": [
              "4"
            ]
          },
          "metadata": {},
          "execution_count": 43
        }
      ]
    },
    {
      "cell_type": "code",
      "source": [
        "## Mutable types cannot be elements of se\n",
        "my_set =  {['a', 'b', 'c']}\n",
        "print(my_set)"
      ],
      "metadata": {
        "colab": {
          "base_uri": "https://localhost:8080/",
          "height": 211
        },
        "id": "ZAP1WhNK2Uas",
        "outputId": "973e45ec-5061-4417-aaa2-dae31541f728"
      },
      "execution_count": 47,
      "outputs": [
        {
          "output_type": "error",
          "ename": "TypeError",
          "evalue": "unhashable type: 'list'",
          "traceback": [
            "\u001b[0;31m---------------------------------------------------------------------------\u001b[0m",
            "\u001b[0;31mTypeError\u001b[0m                                 Traceback (most recent call last)",
            "\u001b[0;32m<ipython-input-47-a369aa39dca3>\u001b[0m in \u001b[0;36m<cell line: 0>\u001b[0;34m()\u001b[0m\n\u001b[1;32m      1\u001b[0m \u001b[0;31m## Mutable types cannot be elements of se\u001b[0m\u001b[0;34m\u001b[0m\u001b[0;34m\u001b[0m\u001b[0m\n\u001b[0;32m----> 2\u001b[0;31m \u001b[0mmy_set\u001b[0m \u001b[0;34m=\u001b[0m  \u001b[0;34m{\u001b[0m\u001b[0;34m[\u001b[0m\u001b[0;34m'a'\u001b[0m\u001b[0;34m,\u001b[0m \u001b[0;34m'b'\u001b[0m\u001b[0;34m,\u001b[0m \u001b[0;34m'c'\u001b[0m\u001b[0;34m]\u001b[0m\u001b[0;34m}\u001b[0m\u001b[0;34m\u001b[0m\u001b[0;34m\u001b[0m\u001b[0m\n\u001b[0m\u001b[1;32m      3\u001b[0m \u001b[0mprint\u001b[0m\u001b[0;34m(\u001b[0m\u001b[0mmy_set\u001b[0m\u001b[0;34m)\u001b[0m\u001b[0;34m\u001b[0m\u001b[0;34m\u001b[0m\u001b[0m\n",
            "\u001b[0;31mTypeError\u001b[0m: unhashable type: 'list'"
          ]
        }
      ]
    },
    {
      "cell_type": "markdown",
      "source": [
        "### **Built-in functions**"
      ],
      "metadata": {
        "id": "iLlspCQe3Llf"
      }
    },
    {
      "cell_type": "code",
      "source": [
        "## add function\n",
        "my_set = {1,2,3,4,5,6,7}\n",
        "my_set.add(8)\n",
        "print(my_set)"
      ],
      "metadata": {
        "colab": {
          "base_uri": "https://localhost:8080/"
        },
        "id": "ibhxFg5b3LXJ",
        "outputId": "7a45a58a-56f5-4fcc-843c-15ca4504c80c"
      },
      "execution_count": 49,
      "outputs": [
        {
          "output_type": "stream",
          "name": "stdout",
          "text": [
            "{1, 2, 3, 4, 5, 6, 7, 8}\n"
          ]
        }
      ]
    },
    {
      "cell_type": "code",
      "source": [
        "## update function\n",
        "my_set.update([9,10,11])\n",
        "print(my_set)"
      ],
      "metadata": {
        "colab": {
          "base_uri": "https://localhost:8080/"
        },
        "id": "dTav8To03GQi",
        "outputId": "3c2ccdc3-0d52-4453-aa72-5148c6f99368"
      },
      "execution_count": 51,
      "outputs": [
        {
          "output_type": "stream",
          "name": "stdout",
          "text": [
            "{1, 2, 3, 4, 5, 6, 7, 8, 9, 10, 11}\n"
          ]
        }
      ]
    },
    {
      "cell_type": "code",
      "source": [
        "my_set2 = {('a','b','c')}\n",
        "print(my_set2) ## Tuple can be stored because they are hashable"
      ],
      "metadata": {
        "colab": {
          "base_uri": "https://localhost:8080/"
        },
        "id": "-3mZ4qQO3n4S",
        "outputId": "53719449-f452-4d0b-98bb-ea1fb09903cc"
      },
      "execution_count": 53,
      "outputs": [
        {
          "output_type": "stream",
          "name": "stdout",
          "text": [
            "{('a', 'b', 'c')}\n"
          ]
        }
      ]
    },
    {
      "cell_type": "markdown",
      "source": [
        "### **Join Sets**"
      ],
      "metadata": {
        "id": "fgPRGUCn45Mc"
      }
    },
    {
      "cell_type": "code",
      "source": [
        "set1 = {1,2,3}\n",
        "set2 = {4,5,6}\n",
        "union_set = set1.union(set2) ## Union will combine we can also use symbol |\n",
        "print(union_set)"
      ],
      "metadata": {
        "colab": {
          "base_uri": "https://localhost:8080/"
        },
        "id": "m9mX4oOt4Uct",
        "outputId": "2747b4f2-7511-47cc-96e1-9b58b717a8a4"
      },
      "execution_count": 54,
      "outputs": [
        {
          "output_type": "stream",
          "name": "stdout",
          "text": [
            "{1, 2, 3, 4, 5, 6}\n"
          ]
        }
      ]
    },
    {
      "cell_type": "code",
      "source": [
        "set1 = {1,2,3}\n",
        "set2 = {3,5,6}\n",
        "intersectionset = set1 & set2 ## Only prints the common elements\n",
        "print(intersectionset)"
      ],
      "metadata": {
        "colab": {
          "base_uri": "https://localhost:8080/"
        },
        "id": "sdGhrvXa5Be4",
        "outputId": "49eb810c-df95-491f-af16-d4dab0642c36"
      },
      "execution_count": 57,
      "outputs": [
        {
          "output_type": "stream",
          "name": "stdout",
          "text": [
            "{3}\n"
          ]
        }
      ]
    },
    {
      "cell_type": "code",
      "source": [
        "set1 = {1,2,3}\n",
        "set2 = {3,5,6}\n",
        "\n",
        "differenceset = set1 - set2 ## only the elements avaiable in set1 and not in set 2\n",
        "print(differenceset)"
      ],
      "metadata": {
        "colab": {
          "base_uri": "https://localhost:8080/"
        },
        "id": "JNT0nS0B5Wp_",
        "outputId": "aa7827a9-386c-4de1-ebd6-d9799e5ba75c"
      },
      "execution_count": 58,
      "outputs": [
        {
          "output_type": "stream",
          "name": "stdout",
          "text": [
            "{1, 2}\n"
          ]
        }
      ]
    },
    {
      "cell_type": "code",
      "source": [
        "set1 = {1,2,3}\n",
        "set2 = {3,5,6}\n",
        "\n",
        "symmetricdifferenceset = set1 ^ set2 ## will print everything expect common elements\n",
        "print(symmetricdifferenceset)"
      ],
      "metadata": {
        "colab": {
          "base_uri": "https://localhost:8080/"
        },
        "id": "C-tGsPXO5oHD",
        "outputId": "68ffa8f4-8fdb-45da-ce76-2debc28409b1"
      },
      "execution_count": 59,
      "outputs": [
        {
          "output_type": "stream",
          "name": "stdout",
          "text": [
            "{1, 2, 5, 6}\n"
          ]
        }
      ]
    },
    {
      "cell_type": "markdown",
      "source": [
        "### **Another version of all of this update()**"
      ],
      "metadata": {
        "id": "McI-feFf6M5c"
      }
    },
    {
      "cell_type": "code",
      "source": [
        "## Task to explore and give me the difference between the above methods and _update() methods in the set\n"
      ],
      "metadata": {
        "id": "AvfA234c6BM2"
      },
      "execution_count": null,
      "outputs": []
    },
    {
      "cell_type": "markdown",
      "source": [
        "Task: Merge the below two tuples and then remove the duplicate values and return the final output as a tuple.\n",
        "\n",
        "tup1 = (1, 2, 3)\n",
        "\n",
        "tup2 = (3, 4, 5)"
      ],
      "metadata": {
        "id": "82SOAKnW7fkj"
      }
    },
    {
      "cell_type": "code",
      "source": [
        "## This is for not keeping any value which ocuurs twice\n",
        "tup1 = (1,2,3)\n",
        "tup2 = (3,4,5)\n",
        "set1 = set(tup1)\n",
        "set2 = set(tup2)\n",
        "unique_elemets = set1^set2\n",
        "print(unique_elemets)\n",
        "tup3 = tuple(unique_elemets)\n",
        "print(tup3)"
      ],
      "metadata": {
        "colab": {
          "base_uri": "https://localhost:8080/"
        },
        "id": "nIpnJm5y7mLt",
        "outputId": "fafacf6c-37a5-40e8-d152-b09f24fa5342"
      },
      "execution_count": 63,
      "outputs": [
        {
          "output_type": "stream",
          "name": "stdout",
          "text": [
            "{1, 2, 4, 5}\n",
            "(1, 2, 4, 5)\n"
          ]
        }
      ]
    },
    {
      "cell_type": "code",
      "source": [
        "## another way\n",
        "tup1 = (1,2,3)\n",
        "tup2 = (3,4,5)\n",
        "\n",
        "merged = tup1+tup2\n",
        "unique_elemets = tuple(set(merged))\n",
        "print(unique_elemets)"
      ],
      "metadata": {
        "colab": {
          "base_uri": "https://localhost:8080/"
        },
        "id": "KkVq6GgD9P3v",
        "outputId": "da7de564-93b6-4727-b53d-dd7e9f9a5383"
      },
      "execution_count": 69,
      "outputs": [
        {
          "output_type": "stream",
          "name": "stdout",
          "text": [
            "(1, 2, 3, 4, 5)\n"
          ]
        }
      ]
    },
    {
      "cell_type": "code",
      "source": [
        "## Function definition\n",
        "def merge_and_remove_duplicated(tup1,tup2):\n",
        "  return tuple(set(tup1+tup2))\n",
        "## driver code\n",
        "tup1 = (1,2,3)\n",
        "tup2 = (3,4,5)\n",
        "## fucntion call\n",
        "print(merge_and_remove_duplicated(tup1,tup2))"
      ],
      "metadata": {
        "colab": {
          "base_uri": "https://localhost:8080/"
        },
        "id": "DaHFNWuG-S2M",
        "outputId": "a231f86a-f03e-4070-84c1-45b4c71d1008"
      },
      "execution_count": 70,
      "outputs": [
        {
          "output_type": "stream",
          "name": "stdout",
          "text": [
            "(1, 2, 3, 4, 5)\n"
          ]
        }
      ]
    },
    {
      "cell_type": "markdown",
      "source": [
        "## **Dictionaries**"
      ],
      "metadata": {
        "id": "hDxIHjQR7N3u"
      }
    },
    {
      "cell_type": "code",
      "source": [
        "my_dict = {\"name\":\"Soumallya Chandra\",\n",
        "           \"age\" : 21,\n",
        "           \"salary\" : 40000,\n",
        "           \"city\":\"delhi\",\n",
        "           \"location\":\"south\"\n",
        "           }\n",
        "\n",
        "print(my_dict)"
      ],
      "metadata": {
        "colab": {
          "base_uri": "https://localhost:8080/"
        },
        "id": "9eCXd5-W7OJx",
        "outputId": "675b031b-47c3-4e53-ae9b-3bc7168973a4"
      },
      "execution_count": 71,
      "outputs": [
        {
          "output_type": "stream",
          "name": "stdout",
          "text": [
            "{'name': 'Soumallya Chandra', 'age': 21, 'salary': 40000, 'city': 'delhi', 'location': 'south'}\n"
          ]
        }
      ]
    },
    {
      "cell_type": "code",
      "source": [
        "my_dict[\"salary\"]"
      ],
      "metadata": {
        "colab": {
          "base_uri": "https://localhost:8080/"
        },
        "id": "XP_ZsHtfBnGT",
        "outputId": "e03b743b-9456-4ce4-90c0-52ba25e07c17"
      },
      "execution_count": 72,
      "outputs": [
        {
          "output_type": "execute_result",
          "data": {
            "text/plain": [
              "40000"
            ]
          },
          "metadata": {},
          "execution_count": 72
        }
      ]
    },
    {
      "cell_type": "code",
      "source": [
        "scores = {\"Alice\":90,\"Charlie\":76}\n",
        "print(scores)"
      ],
      "metadata": {
        "colab": {
          "base_uri": "https://localhost:8080/"
        },
        "id": "WL2UaUuaBxN1",
        "outputId": "14086b77-3bb2-43ad-b35c-49cf935368b1"
      },
      "execution_count": 73,
      "outputs": [
        {
          "output_type": "stream",
          "name": "stdout",
          "text": [
            "{'Alice': 90, 'Charlie': 76}\n"
          ]
        }
      ]
    },
    {
      "cell_type": "code",
      "source": [
        "print(scores[\"Charlie\"])"
      ],
      "metadata": {
        "colab": {
          "base_uri": "https://localhost:8080/"
        },
        "id": "mZ7iwi3jCaxR",
        "outputId": "46e7aefc-4c93-4679-e103-26b1cc538113"
      },
      "execution_count": 75,
      "outputs": [
        {
          "output_type": "stream",
          "name": "stdout",
          "text": [
            "76\n"
          ]
        }
      ]
    },
    {
      "cell_type": "markdown",
      "source": [
        "### **Built-in functions**"
      ],
      "metadata": {
        "id": "bOFlUnNTCx0e"
      }
    },
    {
      "cell_type": "code",
      "source": [
        "## To get keys from a dictionary\n",
        "print(my_dict.keys())"
      ],
      "metadata": {
        "colab": {
          "base_uri": "https://localhost:8080/"
        },
        "id": "cLP0SxMsCg7e",
        "outputId": "88c9ac1f-12d9-40d2-a58b-132811c4d0fa"
      },
      "execution_count": 76,
      "outputs": [
        {
          "output_type": "stream",
          "name": "stdout",
          "text": [
            "dict_keys(['name', 'age', 'salary', 'city', 'location'])\n"
          ]
        }
      ]
    },
    {
      "cell_type": "code",
      "source": [
        "print(my_dict.values())"
      ],
      "metadata": {
        "colab": {
          "base_uri": "https://localhost:8080/"
        },
        "id": "h2UCYmTMC5Qw",
        "outputId": "8657db6c-bb23-4d6d-bc79-665f0945d0e5"
      },
      "execution_count": 77,
      "outputs": [
        {
          "output_type": "stream",
          "name": "stdout",
          "text": [
            "dict_values(['Soumallya Chandra', 21, 40000, 'delhi', 'south'])\n"
          ]
        }
      ]
    },
    {
      "cell_type": "code",
      "source": [
        "print(my_dict.items())"
      ],
      "metadata": {
        "colab": {
          "base_uri": "https://localhost:8080/"
        },
        "id": "m8XxhwQbC-Cd",
        "outputId": "8636f30a-53c9-43e5-9ba4-e798cfe8e17e"
      },
      "execution_count": 78,
      "outputs": [
        {
          "output_type": "stream",
          "name": "stdout",
          "text": [
            "dict_items([('name', 'Soumallya Chandra'), ('age', 21), ('salary', 40000), ('city', 'delhi'), ('location', 'south')])\n"
          ]
        }
      ]
    },
    {
      "cell_type": "code",
      "source": [
        "## Keys in the dictionary are immutable\n",
        "my_dict"
      ],
      "metadata": {
        "colab": {
          "base_uri": "https://localhost:8080/"
        },
        "id": "UCTayEaFDBN1",
        "outputId": "9f389dcf-4284-4575-ecb7-41996bf75eab"
      },
      "execution_count": 79,
      "outputs": [
        {
          "output_type": "execute_result",
          "data": {
            "text/plain": [
              "{'name': 'Soumallya Chandra',\n",
              " 'age': 21,\n",
              " 'salary': 40000,\n",
              " 'city': 'delhi',\n",
              " 'location': 'south'}"
            ]
          },
          "metadata": {},
          "execution_count": 79
        }
      ]
    },
    {
      "cell_type": "markdown",
      "source": [
        "### Add new keys in dictionary"
      ],
      "metadata": {
        "id": "WGfEDD3aEfuh"
      }
    },
    {
      "cell_type": "code",
      "source": [
        "my_dict['position'] = 'SDE'\n",
        "my_dict['College'] = 'The Neotia University'\n",
        "print(my_dict)"
      ],
      "metadata": {
        "colab": {
          "base_uri": "https://localhost:8080/"
        },
        "id": "nlQa4l1vD-eq",
        "outputId": "86fe387f-b860-433d-bbdd-5a7da4f96aa9"
      },
      "execution_count": 80,
      "outputs": [
        {
          "output_type": "stream",
          "name": "stdout",
          "text": [
            "{'name': 'Soumallya Chandra', 'age': 21, 'salary': 40000, 'city': 'delhi', 'location': 'south', 'position': 'SDE', 'College': 'The Neotia University'}\n"
          ]
        }
      ]
    },
    {
      "cell_type": "code",
      "source": [
        "my_dict.update({'Salary':50000,'city':'Kolkata'})"
      ],
      "metadata": {
        "id": "nhx7QJYvEVQK"
      },
      "execution_count": 81,
      "outputs": []
    },
    {
      "cell_type": "code",
      "source": [
        "my_dict"
      ],
      "metadata": {
        "colab": {
          "base_uri": "https://localhost:8080/"
        },
        "id": "XfcKV_GLE-MS",
        "outputId": "d7d73d20-9824-4f8a-b65d-9794dda02eea"
      },
      "execution_count": 82,
      "outputs": [
        {
          "output_type": "execute_result",
          "data": {
            "text/plain": [
              "{'name': 'Soumallya Chandra',\n",
              " 'age': 21,\n",
              " 'salary': 40000,\n",
              " 'city': 'Kolkata',\n",
              " 'location': 'south',\n",
              " 'position': 'SDE',\n",
              " 'College': 'The Neotia University',\n",
              " 'Salary': 50000}"
            ]
          },
          "metadata": {},
          "execution_count": 82
        }
      ]
    },
    {
      "cell_type": "code",
      "source": [
        "## deleting a key from dictionary\n",
        "\n",
        "del my_dict['city']"
      ],
      "metadata": {
        "id": "AXgEBUPrE_M5"
      },
      "execution_count": 83,
      "outputs": []
    },
    {
      "cell_type": "code",
      "source": [
        "## Dictionaries are mutable\n",
        "\n",
        "my_dict"
      ],
      "metadata": {
        "colab": {
          "base_uri": "https://localhost:8080/"
        },
        "id": "MLJ79AIIFQpe",
        "outputId": "50255c38-640f-48f7-8623-fa595b05e865"
      },
      "execution_count": 85,
      "outputs": [
        {
          "output_type": "execute_result",
          "data": {
            "text/plain": [
              "{'name': 'Soumallya Chandra',\n",
              " 'age': 21,\n",
              " 'salary': 40000,\n",
              " 'location': 'south',\n",
              " 'position': 'SDE',\n",
              " 'College': 'The Neotia University',\n",
              " 'Salary': 50000}"
            ]
          },
          "metadata": {},
          "execution_count": 85
        }
      ]
    },
    {
      "cell_type": "code",
      "source": [
        "## Task : Check if all the elements in the list are unique or not\n",
        "\n",
        "list1 = [1,2,3,4,2]\n",
        "\n",
        "def all_unique(list1):\n",
        "  return len(list1) == len(set(list1))\n",
        "\n",
        "print(all_unique(list1))"
      ],
      "metadata": {
        "colab": {
          "base_uri": "https://localhost:8080/"
        },
        "id": "-j53zLAzFRyt",
        "outputId": "f8306ef0-16ce-40dc-ae75-c6364836d871"
      },
      "execution_count": 86,
      "outputs": [
        {
          "output_type": "stream",
          "name": "stdout",
          "text": [
            "False\n"
          ]
        }
      ]
    },
    {
      "cell_type": "code",
      "source": [
        "## Task : Count of occurence of each element in a list and return a dictionary\n",
        "lst = ['a','b','a','b','c','a']\n",
        "\n",
        "output = {}\n",
        "\n",
        "for item in lst:\n",
        "  if item in output:\n",
        "    output[item] += 1\n",
        "  else:\n",
        "    output[item] = 1\n",
        "\n",
        "print(output)"
      ],
      "metadata": {
        "colab": {
          "base_uri": "https://localhost:8080/"
        },
        "id": "AxZrRHuwGVI-",
        "outputId": "168bc475-e611-4bf6-fe5e-12646be7a818"
      },
      "execution_count": 87,
      "outputs": [
        {
          "output_type": "stream",
          "name": "stdout",
          "text": [
            "{'a': 3, 'b': 2, 'c': 1}\n"
          ]
        }
      ]
    },
    {
      "cell_type": "code",
      "source": [
        "## Task : swap key and values in a dictionary\n",
        "\n",
        "dict1 = {'a':1,'b':2,'c':3}\n",
        "\n",
        "## Dictioary comprehension\n",
        "swapped = {value: key for key, value in dict1.items()}\n",
        "\n",
        "print(swapped)"
      ],
      "metadata": {
        "colab": {
          "base_uri": "https://localhost:8080/"
        },
        "id": "LTJ_jWi_Hj02",
        "outputId": "0ff254f7-832e-4e7b-825f-7547cd29d4ce"
      },
      "execution_count": 88,
      "outputs": [
        {
          "output_type": "stream",
          "name": "stdout",
          "text": [
            "{1: 'a', 2: 'b', 3: 'c'}\n"
          ]
        }
      ]
    },
    {
      "cell_type": "code",
      "source": [],
      "metadata": {
        "id": "LkDZd9RVI5ri"
      },
      "execution_count": null,
      "outputs": []
    }
  ]
}