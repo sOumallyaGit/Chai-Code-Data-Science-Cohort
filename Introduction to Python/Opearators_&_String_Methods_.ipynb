{
  "nbformat": 4,
  "nbformat_minor": 0,
  "metadata": {
    "colab": {
      "provenance": []
    },
    "kernelspec": {
      "name": "python3",
      "display_name": "Python 3"
    },
    "language_info": {
      "name": "python"
    }
  },
  "cells": [
    {
      "cell_type": "markdown",
      "source": [
        "## Operators in python"
      ],
      "metadata": {
        "id": "sq4mFdtkzqTb"
      }
    },
    {
      "cell_type": "code",
      "execution_count": null,
      "metadata": {
        "id": "9sq7aucYy0ge"
      },
      "outputs": [],
      "source": [
        "## Operators are a tool of programming which helps us to do opearations\n",
        "\"\"\"\n",
        "In Python we have 7 types of operators\n",
        "1. Arithmetic Operator\n",
        "2. Assignment Operator\n",
        "3. Comparison Operator\n",
        "4. Logical Operator\n",
        "5. Identity Operator\n",
        "6. Membership Operator\n",
        "7. Bitwise Operator\n",
        "\"\"\""
      ]
    },
    {
      "cell_type": "markdown",
      "source": [
        "### **1. Arithmetic Operator**"
      ],
      "metadata": {
        "id": "wGjiIJRC1N_k"
      }
    },
    {
      "cell_type": "code",
      "source": [
        "x = 10\n",
        "y = 3\n",
        "print(x+y) # Addition\n",
        "print(x-y) # Substraction\n",
        "print(x*y) # Multiplication\n",
        "print(x/y) # Divison\n",
        "print(x%y) # Modulus\n",
        "print(x**y) # Exponential\n",
        "print(x//y) # Floor Divison"
      ],
      "metadata": {
        "colab": {
          "base_uri": "https://localhost:8080/"
        },
        "id": "mobXhzTr1V-f",
        "outputId": "efa265e4-ebf1-44b0-9388-675a6a36fd52"
      },
      "execution_count": null,
      "outputs": [
        {
          "output_type": "stream",
          "name": "stdout",
          "text": [
            "13\n",
            "7\n",
            "30\n",
            "3.3333333333333335\n",
            "1\n",
            "1000\n",
            "3\n"
          ]
        }
      ]
    },
    {
      "cell_type": "code",
      "source": [
        "## type error explaination\n",
        "a = 10 + \"20\"\n",
        "print(a)"
      ],
      "metadata": {
        "colab": {
          "base_uri": "https://localhost:8080/",
          "height": 193
        },
        "id": "a_TQvQHr34CX",
        "outputId": "7b2cad87-633f-46c6-ff06-466294d34814"
      },
      "execution_count": null,
      "outputs": [
        {
          "output_type": "error",
          "ename": "TypeError",
          "evalue": "unsupported operand type(s) for +: 'int' and 'str'",
          "traceback": [
            "\u001b[0;31m---------------------------------------------------------------------------\u001b[0m",
            "\u001b[0;31mTypeError\u001b[0m                                 Traceback (most recent call last)",
            "\u001b[0;32m<ipython-input-4-2370b679375e>\u001b[0m in \u001b[0;36m<cell line: 0>\u001b[0;34m()\u001b[0m\n\u001b[0;32m----> 1\u001b[0;31m \u001b[0ma\u001b[0m \u001b[0;34m=\u001b[0m \u001b[0;36m10\u001b[0m \u001b[0;34m+\u001b[0m \u001b[0;34m\"20\"\u001b[0m\u001b[0;34m\u001b[0m\u001b[0;34m\u001b[0m\u001b[0m\n\u001b[0m\u001b[1;32m      2\u001b[0m \u001b[0mprint\u001b[0m\u001b[0;34m(\u001b[0m\u001b[0ma\u001b[0m\u001b[0;34m)\u001b[0m\u001b[0;34m\u001b[0m\u001b[0;34m\u001b[0m\u001b[0m\n",
            "\u001b[0;31mTypeError\u001b[0m: unsupported operand type(s) for +: 'int' and 'str'"
          ]
        }
      ]
    },
    {
      "cell_type": "markdown",
      "source": [
        "### **2. Comparison Operator**"
      ],
      "metadata": {
        "id": "sndmmlfM4s_t"
      }
    },
    {
      "cell_type": "code",
      "source": [
        "## This operator always returns a boolean value\n",
        "x = 5\n",
        "y = 10\n",
        "print(x==y) # Equal to\n",
        "print(x!=y) # Not equal to\n",
        "print(x>y) # Greater than\n",
        "print(x<y) # less than\n",
        "print(x>=y) # greater than or equal to\n",
        "print(x<=y) # less than or equal to"
      ],
      "metadata": {
        "colab": {
          "base_uri": "https://localhost:8080/"
        },
        "id": "bzepakK-4ypb",
        "outputId": "602e7bea-cb23-4365-e503-7c4798a90b88"
      },
      "execution_count": null,
      "outputs": [
        {
          "output_type": "stream",
          "name": "stdout",
          "text": [
            "False\n",
            "True\n",
            "False\n",
            "True\n",
            "False\n",
            "True\n"
          ]
        }
      ]
    },
    {
      "cell_type": "markdown",
      "source": [
        "### **3. Logical Operator**"
      ],
      "metadata": {
        "id": "dfvQ6em511R4"
      }
    },
    {
      "cell_type": "code",
      "source": [
        "## it also returns answer in true or false\n",
        "## 3 types - 1. Logical AND = True if both condition true\n",
        "##           2. Logical OR  = True if one condition is true\n",
        "##           3. Logical NOT = Opposite boolean value of the operand\n",
        "x = 5\n",
        "y = 10\n",
        "z = 15\n",
        "\n",
        "print(x<y and y<z)\n",
        "print(x<y or x>z)\n",
        "print(not(x<y))"
      ],
      "metadata": {
        "colab": {
          "base_uri": "https://localhost:8080/"
        },
        "id": "bB_THozF1uLJ",
        "outputId": "929bafdf-3d8b-4df8-cdef-25309082e929"
      },
      "execution_count": null,
      "outputs": [
        {
          "output_type": "stream",
          "name": "stdout",
          "text": [
            "True\n",
            "True\n",
            "False\n"
          ]
        }
      ]
    },
    {
      "cell_type": "markdown",
      "source": [
        "### **4. Bitwise Operator**"
      ],
      "metadata": {
        "id": "zc9Rd05o7lGS"
      }
    },
    {
      "cell_type": "code",
      "source": [
        "## Bitwise is very fast than comparison\n",
        "\"\"\"\n",
        "1. Bitwise AND - &\n",
        "2. Bitwise OR - |\n",
        "3. Bitwise XOR - ^\n",
        "4. Bitwise NOT - ~\n",
        "5. Bitwise Left Shift - <<\n",
        "6. Bitwise Right Shift - >>\n",
        "\n",
        "this operation happens in binary form(it converts every value to binary first)\n",
        "\n",
        "XOR - If different bits result will be 1\n",
        "      and if same bits it returns 0.\n",
        "\n",
        "for bitwise we use symbol and for logical we use words.\n",
        "\n",
        "Left Shift - Left shift means if number is 1010 --> 10100 (added zero to the empty place)\n",
        "             so basically left means multiply by 2 .(X*2^n)\n",
        "\n",
        "right shift is the exactly opposite that means divided by 2 .(X/2^n)\n",
        "\n",
        "bitwise not basically gives the complement value\n",
        "\"\"\"\n",
        "print(6^6) ## XOR\n",
        "print(6&6) ## AND\n",
        "print(6|6) ## OR\n",
        "print(6<<2) ## Left shift by 2\n",
        "print(10>>2) ## Right shift by 2"
      ],
      "metadata": {
        "colab": {
          "base_uri": "https://localhost:8080/"
        },
        "id": "Jc1ny14R1uHw",
        "outputId": "2fa30dd2-78ac-4940-bb86-36f3afaa1e32"
      },
      "execution_count": null,
      "outputs": [
        {
          "output_type": "stream",
          "name": "stdout",
          "text": [
            "0\n",
            "6\n",
            "6\n",
            "24\n",
            "2\n"
          ]
        }
      ]
    },
    {
      "cell_type": "markdown",
      "source": [
        "### **5. Assignment Operator**"
      ],
      "metadata": {
        "id": "VPc1LbSSBvjO"
      }
    },
    {
      "cell_type": "code",
      "source": [
        "x = 20\n",
        "y = 3\n",
        "\n",
        "x+=y # x = x+y\n",
        "print(x)\n",
        "\n",
        "x-=y # x = x-y\n",
        "print(x)\n",
        "\n",
        "x*=y # x = x*y\n",
        "print(x)\n",
        "\n",
        "x/=y # x = x/y\n",
        "print(x)"
      ],
      "metadata": {
        "colab": {
          "base_uri": "https://localhost:8080/"
        },
        "id": "sAyqcS4d1uFa",
        "outputId": "77421b0f-de05-41c2-c32f-d9e7fb43dda2"
      },
      "execution_count": null,
      "outputs": [
        {
          "output_type": "stream",
          "name": "stdout",
          "text": [
            "23\n",
            "20\n",
            "60\n",
            "20.0\n"
          ]
        }
      ]
    },
    {
      "cell_type": "markdown",
      "source": [
        "### **6. Membership Operator**"
      ],
      "metadata": {
        "id": "QOTb171kMIfc"
      }
    },
    {
      "cell_type": "code",
      "source": [
        "## If any specific variable available in sequence or not\n",
        "## 2 operators are there 1. in\n",
        "##                       2. not in\n",
        "print('a' in 'pritha')\n",
        "print('s' not in 'pritha' )"
      ],
      "metadata": {
        "colab": {
          "base_uri": "https://localhost:8080/"
        },
        "id": "Eq0pWbBH1uAt",
        "outputId": "7d8a77e0-54f9-4690-e4f0-c31faec570bf"
      },
      "execution_count": null,
      "outputs": [
        {
          "output_type": "stream",
          "name": "stdout",
          "text": [
            "True\n",
            "True\n"
          ]
        }
      ]
    },
    {
      "cell_type": "markdown",
      "source": [
        "### **7. Identity Operator**"
      ],
      "metadata": {
        "id": "dgOvUAhlNRi3"
      }
    },
    {
      "cell_type": "code",
      "source": [
        "## 1. is\n",
        "## 2. is not\n",
        "## suppose we have two objects in memory\n",
        "## it will check if two objects refers to the same memory location or not\n",
        "## basically it checks if two objects are same or not\n",
        "\n",
        "x = 10\n",
        "y = 10\n",
        "print(x is y)\n",
        "print(x is not y)\n",
        "\n",
        "## to check memory address in python\n",
        "print(f\"Memory address of x is {id(x)}\")\n",
        "print(f\"Memory address of y is {id(y)}\")"
      ],
      "metadata": {
        "colab": {
          "base_uri": "https://localhost:8080/"
        },
        "id": "eQOSVW4Q1t-X",
        "outputId": "cff26407-f5a3-4cf0-cb81-69cdba9cb027"
      },
      "execution_count": null,
      "outputs": [
        {
          "output_type": "stream",
          "name": "stdout",
          "text": [
            "True\n",
            "False\n",
            "Memory address of x is 10751144\n",
            "Memory address of y is 10751144\n"
          ]
        }
      ]
    },
    {
      "cell_type": "markdown",
      "source": [
        "## Strings in Python"
      ],
      "metadata": {
        "id": "WYq4XlhlPLIM"
      }
    },
    {
      "cell_type": "code",
      "source": [
        "name = \"Soumallya i am\"\n",
        "print(type(name))\n",
        "## so string is a data type\n",
        "## and string is also a datatype\n",
        "## because we store sequence of character in string\n",
        "## String also has indexing\n",
        "print(name[4])"
      ],
      "metadata": {
        "id": "yQMTaTUTOQSh",
        "colab": {
          "base_uri": "https://localhost:8080/"
        },
        "outputId": "4f55863b-3c6e-4b70-d6eb-7fde489f1d67"
      },
      "execution_count": 16,
      "outputs": [
        {
          "output_type": "stream",
          "name": "stdout",
          "text": [
            "<class 'str'>\n",
            "a\n"
          ]
        }
      ]
    },
    {
      "cell_type": "code",
      "source": [
        "## Negative indexing concept\n",
        "print(\"programming\"[-1])"
      ],
      "metadata": {
        "colab": {
          "base_uri": "https://localhost:8080/"
        },
        "id": "w60VqEWqTZLT",
        "outputId": "e1ce5b0c-7fb2-4099-abc8-5bb8848aec24"
      },
      "execution_count": 17,
      "outputs": [
        {
          "output_type": "stream",
          "name": "stdout",
          "text": [
            "g\n"
          ]
        }
      ]
    },
    {
      "cell_type": "code",
      "source": [
        "## String length function\n",
        "len(name)"
      ],
      "metadata": {
        "colab": {
          "base_uri": "https://localhost:8080/"
        },
        "id": "6cAryqjUUg02",
        "outputId": "aad1eb77-c656-4777-c78e-c1ecde688a20"
      },
      "execution_count": 18,
      "outputs": [
        {
          "output_type": "execute_result",
          "data": {
            "text/plain": [
              "14"
            ]
          },
          "metadata": {},
          "execution_count": 18
        }
      ]
    },
    {
      "cell_type": "markdown",
      "source": [
        "### **1. Slicing Operation**"
      ],
      "metadata": {
        "id": "iemkA3U0XM79"
      }
    },
    {
      "cell_type": "code",
      "source": [
        "## slicing means fetching amount of data from a complete data\n",
        "## Slicing syntax variableName[start:end:step] end is exclusive\n",
        "slicedName = name[0:3:1]\n",
        "print(slicedName)\n",
        "# Mutable means changeable\n",
        "## Immutable means we cannot change\n",
        "## and strings are immutable in\n",
        "## --> means once a string is created we cannot change it"
      ],
      "metadata": {
        "colab": {
          "base_uri": "https://localhost:8080/"
        },
        "id": "yhEJ54XQW3yk",
        "outputId": "fc182033-94cb-4579-d873-1d800abad569"
      },
      "execution_count": 10,
      "outputs": [
        {
          "output_type": "stream",
          "name": "stdout",
          "text": [
            "Sou\n"
          ]
        }
      ]
    },
    {
      "cell_type": "code",
      "source": [
        "print(name[-4:])\n",
        "## Starting index -4 and it will go to till end that means which is -1"
      ],
      "metadata": {
        "colab": {
          "base_uri": "https://localhost:8080/"
        },
        "id": "c4JLdflNX3B6",
        "outputId": "a1a501ec-b62b-4a84-9193-75527d83faa7"
      },
      "execution_count": 11,
      "outputs": [
        {
          "output_type": "stream",
          "name": "stdout",
          "text": [
            "llya\n"
          ]
        }
      ]
    },
    {
      "cell_type": "code",
      "source": [
        "## Negative index in step size\n",
        "print(name[::-1])\n",
        "## it will print in reverse way\n",
        "## it means we are coming from extreme right to left of string"
      ],
      "metadata": {
        "colab": {
          "base_uri": "https://localhost:8080/"
        },
        "id": "cPy3OpJHXun6",
        "outputId": "4e7dbb67-a7ad-4cea-bf4b-8baf58dfd950"
      },
      "execution_count": 12,
      "outputs": [
        {
          "output_type": "stream",
          "name": "stdout",
          "text": [
            "ayllamuoS\n"
          ]
        }
      ]
    },
    {
      "cell_type": "markdown",
      "source": [
        "### **2. Inbuilt functions of Strings**"
      ],
      "metadata": {
        "id": "X7NX4F4rubxv"
      }
    },
    {
      "cell_type": "code",
      "source": [
        "## Uppercase\n",
        "print(name.upper())"
      ],
      "metadata": {
        "colab": {
          "base_uri": "https://localhost:8080/"
        },
        "id": "4MjtC4BIr77H",
        "outputId": "82bd5212-8d89-4644-ee44-f2b4bbe63fcc"
      },
      "execution_count": 19,
      "outputs": [
        {
          "output_type": "stream",
          "name": "stdout",
          "text": [
            "SOUMALLYA I AM\n"
          ]
        }
      ]
    },
    {
      "cell_type": "code",
      "source": [
        "## Lowercase\n",
        "print(name.lower())"
      ],
      "metadata": {
        "colab": {
          "base_uri": "https://localhost:8080/"
        },
        "id": "Ic55BjVguzHF",
        "outputId": "4b3213df-79f3-4342-f223-a14221400af2"
      },
      "execution_count": 20,
      "outputs": [
        {
          "output_type": "stream",
          "name": "stdout",
          "text": [
            "soumallya i am\n"
          ]
        }
      ]
    },
    {
      "cell_type": "code",
      "source": [
        "## Title case\n",
        "print(name.title())\n",
        "## Convert first alphabet in each word as uppercase"
      ],
      "metadata": {
        "colab": {
          "base_uri": "https://localhost:8080/"
        },
        "id": "CFDG8xJ7u2ro",
        "outputId": "a18a321b-d848-4b11-94ad-596862235bb8"
      },
      "execution_count": 21,
      "outputs": [
        {
          "output_type": "stream",
          "name": "stdout",
          "text": [
            "Soumallya I Am\n"
          ]
        }
      ]
    },
    {
      "cell_type": "code",
      "source": [
        "## Capitalize\n",
        "print(name.capitalize())\n",
        "## Convert first alphabet of string as uppercase"
      ],
      "metadata": {
        "colab": {
          "base_uri": "https://localhost:8080/"
        },
        "id": "rVSa6CGQvAmq",
        "outputId": "eb000a5a-e128-4fb4-eb69-699fe07b3512"
      },
      "execution_count": 22,
      "outputs": [
        {
          "output_type": "stream",
          "name": "stdout",
          "text": [
            "Soumallya i am\n"
          ]
        }
      ]
    },
    {
      "cell_type": "code",
      "source": [
        "## Concatenation\n",
        "str1 = \"hi\"\n",
        "str2 = \"hello\"\n",
        "result = \"hi\" + \" \" + \"hello\"\n",
        "print(result)"
      ],
      "metadata": {
        "colab": {
          "base_uri": "https://localhost:8080/"
        },
        "id": "3tylcWzuvT2W",
        "outputId": "78864f6e-7125-4a00-c07e-df33ae5dbfd8"
      },
      "execution_count": 23,
      "outputs": [
        {
          "output_type": "stream",
          "name": "stdout",
          "text": [
            "hi hello\n"
          ]
        }
      ]
    },
    {
      "cell_type": "code",
      "source": [
        "## Multiplication in string\n",
        "print(str1*3)"
      ],
      "metadata": {
        "colab": {
          "base_uri": "https://localhost:8080/"
        },
        "id": "NU5P8VisvnvP",
        "outputId": "c3bdfa92-a4fd-4a05-d250-29e6511f66d0"
      },
      "execution_count": 25,
      "outputs": [
        {
          "output_type": "stream",
          "name": "stdout",
          "text": [
            "hihihi\n"
          ]
        }
      ]
    },
    {
      "cell_type": "code",
      "source": [],
      "metadata": {
        "id": "T8PgxRLHvypK"
      },
      "execution_count": null,
      "outputs": []
    }
  ]
}