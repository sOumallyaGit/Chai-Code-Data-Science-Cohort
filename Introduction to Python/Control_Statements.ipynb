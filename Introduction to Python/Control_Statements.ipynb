{
  "nbformat": 4,
  "nbformat_minor": 0,
  "metadata": {
    "colab": {
      "provenance": []
    },
    "kernelspec": {
      "name": "python3",
      "display_name": "Python 3"
    },
    "language_info": {
      "name": "python"
    }
  },
  "cells": [
    {
      "cell_type": "markdown",
      "source": [
        "## **Conditional Statements**"
      ],
      "metadata": {
        "id": "fHD9EqQ61mXP"
      }
    },
    {
      "cell_type": "code",
      "execution_count": 11,
      "metadata": {
        "colab": {
          "base_uri": "https://localhost:8080/"
        },
        "id": "uqWRbeolwtg_",
        "outputId": "6eab5bd8-1a4a-4890-acee-ee304de556f0"
      },
      "outputs": [
        {
          "output_type": "stream",
          "name": "stdout",
          "text": [
            "You are going to succeed\n"
          ]
        }
      ],
      "source": [
        "study_time = 10\n",
        "if(study_time>=10):\n",
        "  print(\"You are going to succeed\")\n",
        "else:\n",
        "  print(\"You are going to fail\")"
      ]
    },
    {
      "cell_type": "code",
      "source": [
        "x = 10\n",
        "if x >= 10:\n",
        "  print(\"X is positive\")\n",
        "\n",
        "print(\"This is outside if block\")"
      ],
      "metadata": {
        "colab": {
          "base_uri": "https://localhost:8080/"
        },
        "id": "fQe2j_nhzMkE",
        "outputId": "99a2afc0-401e-4900-97cd-d1ddd3e9d3da"
      },
      "execution_count": 10,
      "outputs": [
        {
          "output_type": "stream",
          "name": "stdout",
          "text": [
            "X is positive\n",
            "This is outside if block\n"
          ]
        }
      ]
    },
    {
      "cell_type": "markdown",
      "source": [
        "Task 1 : Given a number verify that the number is a multiple of 2 or not"
      ],
      "metadata": {
        "id": "8J0IvdWJ2HUD"
      }
    },
    {
      "cell_type": "code",
      "source": [
        "number = int(input(\"Enter a Number \"))\n",
        "if(number%2==0):\n",
        "  print(\"This a multiple of 2\")\n",
        "else :\n",
        "  print(\"Not a multiple of 2\")"
      ],
      "metadata": {
        "colab": {
          "base_uri": "https://localhost:8080/"
        },
        "id": "EPKtAVAt1ggJ",
        "outputId": "aaa447f0-14fc-472d-a559-65a80b218946"
      },
      "execution_count": 14,
      "outputs": [
        {
          "output_type": "stream",
          "name": "stdout",
          "text": [
            "Enter a Number 3\n",
            "Not a multiple of 2\n"
          ]
        }
      ]
    },
    {
      "cell_type": "markdown",
      "source": [
        "Task 2 : find whether a key is available in dictionary or not"
      ],
      "metadata": {
        "id": "4SkigtxE23oi"
      }
    },
    {
      "cell_type": "code",
      "source": [
        "my_dict = {'a':1,'b':2,'c':3}\n",
        "\n",
        "key_to_check = 'd'\n",
        "\n",
        "if key_to_check in my_dict:\n",
        "  print(\"Yes it is available\")\n",
        "else:\n",
        "  print(\"Not avaiable\")"
      ],
      "metadata": {
        "colab": {
          "base_uri": "https://localhost:8080/"
        },
        "id": "p3CrCHvM2WVX",
        "outputId": "9b4e412a-8e9c-484e-de79-68b37f8ad9fd"
      },
      "execution_count": 16,
      "outputs": [
        {
          "output_type": "stream",
          "name": "stdout",
          "text": [
            "Not avaiable\n"
          ]
        }
      ]
    },
    {
      "cell_type": "markdown",
      "source": [
        "### **elif Statement**"
      ],
      "metadata": {
        "id": "TEW-uQGN5B5_"
      }
    },
    {
      "cell_type": "code",
      "source": [
        "a = 5\n",
        "b = 10\n",
        "c = 8\n",
        "\n",
        "if a>b and a>c:\n",
        "  print(\"a is greater than b and c\")\n",
        "elif b>a and b>c:\n",
        "  print(\"b is greater than a and c\")\n",
        "elif c>a and c>b:\n",
        "  print(\"c is greater than a and b\")\n",
        "else :\n",
        "  print(\"a,b,c are equal\")"
      ],
      "metadata": {
        "colab": {
          "base_uri": "https://localhost:8080/"
        },
        "id": "OCDA734o3Spr",
        "outputId": "004c5c82-37a7-418e-da43-a02585ee2ab0"
      },
      "execution_count": 18,
      "outputs": [
        {
          "output_type": "stream",
          "name": "stdout",
          "text": [
            "b is greater than a and c\n"
          ]
        }
      ]
    },
    {
      "cell_type": "markdown",
      "source": [
        "### **Nested Conditional Statement**"
      ],
      "metadata": {
        "id": "sV5GQBcJ6nIW"
      }
    },
    {
      "cell_type": "code",
      "source": [
        "x = 10\n",
        "y = 5\n",
        "\n",
        "if(x>0):\n",
        "  print(\"X is positive\")\n",
        "\n",
        "  if(y > 0):\n",
        "    print(\"y is positive\")"
      ],
      "metadata": {
        "colab": {
          "base_uri": "https://localhost:8080/"
        },
        "id": "-QsauBTC5iu7",
        "outputId": "03ca604a-05ee-458a-fe99-2300584f6413"
      },
      "execution_count": 19,
      "outputs": [
        {
          "output_type": "stream",
          "name": "stdout",
          "text": [
            "X is positive\n",
            "y is positive\n"
          ]
        }
      ]
    },
    {
      "cell_type": "code",
      "source": [
        "age = 15\n",
        "income = 50000\n",
        "\n",
        "if age>=18:\n",
        "  print(\"You are eligible to vote\")\n",
        "  if income >= 30000:\n",
        "    print(\"You are eligible for credit card\")\n",
        "  elif income >= 20000:\n",
        "    print(\"You are eligible for loan\")\n",
        "  else:\n",
        "    print(\"You are eligible to open savings account\")\n",
        "\n",
        "else:\n",
        "  print(\"You are not eligible to vote\")"
      ],
      "metadata": {
        "colab": {
          "base_uri": "https://localhost:8080/"
        },
        "id": "DJ9oOrU468Mp",
        "outputId": "2e85a48f-7269-4c0b-ca59-46ebe93fd945"
      },
      "execution_count": 26,
      "outputs": [
        {
          "output_type": "stream",
          "name": "stdout",
          "text": [
            "You are not eligible to vote\n"
          ]
        }
      ]
    },
    {
      "cell_type": "markdown",
      "source": [
        "### **Short hand if statement**"
      ],
      "metadata": {
        "id": "M7HUnoQh9-h1"
      }
    },
    {
      "cell_type": "code",
      "source": [
        "age = 25\n",
        "\n",
        "if age >= 18: print(\"You are eligible to vote\")"
      ],
      "metadata": {
        "colab": {
          "base_uri": "https://localhost:8080/"
        },
        "id": "4XirUHia854t",
        "outputId": "d17caeba-389f-4b20-ed0b-595220a78546"
      },
      "execution_count": 27,
      "outputs": [
        {
          "output_type": "stream",
          "name": "stdout",
          "text": [
            "You are eligible to vote\n"
          ]
        }
      ]
    },
    {
      "cell_type": "code",
      "source": [
        "text = \"Hello Python\"\n",
        "\n",
        "contains_word = True if \"Python\" in text else False\n",
        "\n",
        "print(contains_word)"
      ],
      "metadata": {
        "colab": {
          "base_uri": "https://localhost:8080/"
        },
        "id": "tLEe2GI4-LBY",
        "outputId": "d1ca6bf2-3137-4400-ddb5-520aa2177118"
      },
      "execution_count": 28,
      "outputs": [
        {
          "output_type": "stream",
          "name": "stdout",
          "text": [
            "True\n"
          ]
        }
      ]
    },
    {
      "cell_type": "code",
      "source": [
        "score = 75\n",
        "\n",
        "grade = \"A\" if score >= 90 else('B' if score >= 80 else ('C' if score >= 70 else 'D'))\n",
        "\n",
        "print(grade)"
      ],
      "metadata": {
        "colab": {
          "base_uri": "https://localhost:8080/"
        },
        "id": "Zu2uYJBV-pem",
        "outputId": "f24299df-08c1-40c2-f081-2fc0c1168313"
      },
      "execution_count": 29,
      "outputs": [
        {
          "output_type": "stream",
          "name": "stdout",
          "text": [
            "C\n"
          ]
        }
      ]
    },
    {
      "cell_type": "markdown",
      "source": [
        "Write a program to take three side lengths and  prints whether the triangle is equilateral, isosceles, or scalene"
      ],
      "metadata": {
        "id": "eBIv05lwC73y"
      }
    },
    {
      "cell_type": "code",
      "source": [
        "a = int(input())\n",
        "b = int(input())\n",
        "c = int(input())\n",
        "\n",
        "if (a == b == c):\n",
        "  print(\"Equilateral\")\n",
        "elif a == b or b == c or a == c:\n",
        "  print(\"Isosceles\")\n",
        "else:\n",
        "  print(\"Scalene\")"
      ],
      "metadata": {
        "colab": {
          "base_uri": "https://localhost:8080/"
        },
        "id": "GdNG9QTsC7i9",
        "outputId": "b2cf92ab-294e-45c5-b47a-038363be3256"
      },
      "execution_count": 32,
      "outputs": [
        {
          "output_type": "stream",
          "name": "stdout",
          "text": [
            "2\n",
            "2\n",
            "2\n",
            "Equilateral\n"
          ]
        }
      ]
    },
    {
      "cell_type": "markdown",
      "source": [
        "Write a program that prints \"Fizz\" if a number is divisible by 3, \"Buzz\" if divisible by 5, \"FizzBuzz\" if divisible by both, or the number itself otherwise.2"
      ],
      "metadata": {
        "id": "mUmSOK0gBViJ"
      }
    },
    {
      "cell_type": "code",
      "source": [
        "a_number = int(input(\"Enter a number: \"))\n",
        "\n",
        "if a_number % 3 == 0 and a_number % 5 == 0:\n",
        "  print(\"FizzBuzz\")\n",
        "elif a_number % 3 == 0:\n",
        "  print(\"Fizz\")\n",
        "elif a_number % 5 == 0:\n",
        "  print(\"Buzz\")\n",
        "else:\n",
        "   print(a_number)"
      ],
      "metadata": {
        "colab": {
          "base_uri": "https://localhost:8080/"
        },
        "id": "KTZ0ZeDmADdY",
        "outputId": "92782129-1d33-41f5-9e07-a49be0b130ea"
      },
      "execution_count": 31,
      "outputs": [
        {
          "output_type": "stream",
          "name": "stdout",
          "text": [
            "Enter a number: 15\n",
            "FizzBuzz\n"
          ]
        }
      ]
    },
    {
      "cell_type": "markdown",
      "source": [
        "Write a program that checks if a given string is a palindrome (reads the same backward)."
      ],
      "metadata": {
        "id": "JUGmTZkcDIto"
      }
    },
    {
      "cell_type": "code",
      "source": [
        "str1 = str(input(\"Enter a string: \"))\n",
        "\n",
        "if str1 == str1[::-1]:\n",
        "  print(\"It is a palindrome\")\n",
        "else :\n",
        "  print(\"It is not a palindrome\")"
      ],
      "metadata": {
        "colab": {
          "base_uri": "https://localhost:8080/"
        },
        "id": "Njhzmz1eCAeX",
        "outputId": "dbd1ac4e-7fc3-43b8-80d4-19679d2c97be"
      },
      "execution_count": 34,
      "outputs": [
        {
          "output_type": "stream",
          "name": "stdout",
          "text": [
            "Enter a string: 121\n",
            "It is a palindrome\n"
          ]
        }
      ]
    },
    {
      "cell_type": "markdown",
      "source": [
        "## **Loops**"
      ],
      "metadata": {
        "id": "VvELBil3EiqN"
      }
    },
    {
      "cell_type": "markdown",
      "source": [
        "### **For loop**"
      ],
      "metadata": {
        "id": "1189h9JcI-tU"
      }
    },
    {
      "cell_type": "code",
      "source": [
        "x = \"Hello World\"\n",
        "\n",
        "for i in range(1,21):\n",
        "  print(f\"{x} {i}\")"
      ],
      "metadata": {
        "colab": {
          "base_uri": "https://localhost:8080/"
        },
        "id": "fa7MBNu5DOQZ",
        "outputId": "b6c18b2a-2267-4b5d-db67-71c392f01dbb"
      },
      "execution_count": 35,
      "outputs": [
        {
          "output_type": "stream",
          "name": "stdout",
          "text": [
            "Hello World 1\n",
            "Hello World 2\n",
            "Hello World 3\n",
            "Hello World 4\n",
            "Hello World 5\n",
            "Hello World 6\n",
            "Hello World 7\n",
            "Hello World 8\n",
            "Hello World 9\n",
            "Hello World 10\n",
            "Hello World 11\n",
            "Hello World 12\n",
            "Hello World 13\n",
            "Hello World 14\n",
            "Hello World 15\n",
            "Hello World 16\n",
            "Hello World 17\n",
            "Hello World 18\n",
            "Hello World 19\n",
            "Hello World 20\n"
          ]
        }
      ]
    },
    {
      "cell_type": "code",
      "source": [
        "fruits = [\"apple\",\"banana\",\"cherry\"]\n",
        "\n",
        "for fruit in fruits:\n",
        "  print(fruit)"
      ],
      "metadata": {
        "colab": {
          "base_uri": "https://localhost:8080/"
        },
        "id": "oZg3C_4hHbBd",
        "outputId": "9e7b2823-4159-43b4-8242-3999f7e8eaf9"
      },
      "execution_count": 36,
      "outputs": [
        {
          "output_type": "stream",
          "name": "stdout",
          "text": [
            "apple\n",
            "banana\n",
            "cherry\n"
          ]
        }
      ]
    },
    {
      "cell_type": "code",
      "source": [
        "number = [1,2,3,4,5,6,7,8,9,10]\n",
        "\n",
        "for number in number:\n",
        "  if(number%2==0):\n",
        "    print(f\"{number} is even\")\n",
        "  else :\n",
        "    print(f\"{number} is odd\")"
      ],
      "metadata": {
        "colab": {
          "base_uri": "https://localhost:8080/"
        },
        "id": "NeCZGZH8IXVP",
        "outputId": "96331542-c671-428e-bb75-581eb7fb322b"
      },
      "execution_count": 38,
      "outputs": [
        {
          "output_type": "stream",
          "name": "stdout",
          "text": [
            "1 is odd\n",
            "2 is even\n",
            "3 is odd\n",
            "4 is even\n",
            "5 is odd\n",
            "6 is even\n",
            "7 is odd\n",
            "8 is even\n",
            "9 is odd\n",
            "10 is even\n"
          ]
        }
      ]
    },
    {
      "cell_type": "code",
      "source": [
        "numbers = [10,50,40,30,5,15]\n",
        "\n",
        "max = 0\n",
        "\n",
        "for number in numbers:\n",
        "  if(number > max):\n",
        "    max = number\n",
        "\n",
        "print(max)"
      ],
      "metadata": {
        "colab": {
          "base_uri": "https://localhost:8080/"
        },
        "id": "ltGjYqnBIij9",
        "outputId": "2845cc30-d8ea-4b3f-cfa9-4920c92548ff"
      },
      "execution_count": 39,
      "outputs": [
        {
          "output_type": "stream",
          "name": "stdout",
          "text": [
            "50\n"
          ]
        }
      ]
    },
    {
      "cell_type": "code",
      "source": [
        "numbers2 = [10,50,40,30,5,15]\n",
        "\n",
        "n = len(numbers2)\n",
        "\n",
        "for i in range(n):\n",
        "  print(numbers2[i])"
      ],
      "metadata": {
        "colab": {
          "base_uri": "https://localhost:8080/"
        },
        "id": "b2OY0JhTJdna",
        "outputId": "83309c89-2fb6-45b3-d634-7a17bba172ad"
      },
      "execution_count": 40,
      "outputs": [
        {
          "output_type": "stream",
          "name": "stdout",
          "text": [
            "10\n",
            "50\n",
            "40\n",
            "30\n",
            "5\n",
            "15\n"
          ]
        }
      ]
    },
    {
      "cell_type": "code",
      "source": [
        "for i in range(6):\n",
        "  print(i)\n",
        "\n",
        "else :\n",
        "  print(\"Loop is completed\")"
      ],
      "metadata": {
        "colab": {
          "base_uri": "https://localhost:8080/"
        },
        "id": "0gGAfdQ9Kgz4",
        "outputId": "82832dab-d367-4465-a43d-73a9a317f0eb"
      },
      "execution_count": 41,
      "outputs": [
        {
          "output_type": "stream",
          "name": "stdout",
          "text": [
            "0\n",
            "1\n",
            "2\n",
            "3\n",
            "4\n",
            "5\n",
            "Loop is completed\n"
          ]
        }
      ]
    },
    {
      "cell_type": "markdown",
      "source": [
        "### **List Comprehension**"
      ],
      "metadata": {
        "id": "svBi4eLyLwm4"
      }
    },
    {
      "cell_type": "code",
      "source": [
        "squares = [x ** 2 for x in range(1,11)]\n",
        "print(squares)"
      ],
      "metadata": {
        "colab": {
          "base_uri": "https://localhost:8080/"
        },
        "id": "-rXekoXjLtkU",
        "outputId": "52390e48-38e5-47e6-9f32-78806e035d05"
      },
      "execution_count": 43,
      "outputs": [
        {
          "output_type": "stream",
          "name": "stdout",
          "text": [
            "[1, 4, 9, 16, 25, 36, 49, 64, 81, 100]\n"
          ]
        }
      ]
    },
    {
      "cell_type": "markdown",
      "source": [
        "### **Generator Expressiom**"
      ],
      "metadata": {
        "id": "CfK09rHoMsvA"
      }
    },
    {
      "cell_type": "code",
      "source": [
        "squares = (x ** 2 for x in range(1,11))\n",
        "print(squares)"
      ],
      "metadata": {
        "colab": {
          "base_uri": "https://localhost:8080/"
        },
        "id": "E6c9LMUSMBya",
        "outputId": "6249c6c7-96de-4c75-fdf5-d28d12aa0302"
      },
      "execution_count": 44,
      "outputs": [
        {
          "output_type": "stream",
          "name": "stdout",
          "text": [
            "<generator object <genexpr> at 0x7e8331ca9b10>\n"
          ]
        }
      ]
    },
    {
      "cell_type": "code",
      "source": [
        "for square in squares:\n",
        "  print(square)"
      ],
      "metadata": {
        "colab": {
          "base_uri": "https://localhost:8080/"
        },
        "id": "ewlNUuQHMzD_",
        "outputId": "ba438c53-0492-4012-c60e-485b0b796b8e"
      },
      "execution_count": 45,
      "outputs": [
        {
          "output_type": "stream",
          "name": "stdout",
          "text": [
            "1\n",
            "4\n",
            "9\n",
            "16\n",
            "25\n",
            "36\n",
            "49\n",
            "64\n",
            "81\n",
            "100\n"
          ]
        }
      ]
    },
    {
      "cell_type": "markdown",
      "source": [
        "### **Nested For Loop**"
      ],
      "metadata": {
        "id": "GoTzx6pPNMO7"
      }
    },
    {
      "cell_type": "code",
      "source": [
        "for i in range(1,6):\n",
        "  for j in range(1,11):\n",
        "    print(i*j,end=\"\\t\")\n",
        "  print()"
      ],
      "metadata": {
        "colab": {
          "base_uri": "https://localhost:8080/"
        },
        "id": "aZWzu27jNAcM",
        "outputId": "5cba39c2-6d77-4092-d448-112707a5fdd1"
      },
      "execution_count": 48,
      "outputs": [
        {
          "output_type": "stream",
          "name": "stdout",
          "text": [
            "1\t2\t3\t4\t5\t6\t7\t8\t9\t10\t\n",
            "2\t4\t6\t8\t10\t12\t14\t16\t18\t20\t\n",
            "3\t6\t9\t12\t15\t18\t21\t24\t27\t30\t\n",
            "4\t8\t12\t16\t20\t24\t28\t32\t36\t40\t\n",
            "5\t10\t15\t20\t25\t30\t35\t40\t45\t50\t\n"
          ]
        }
      ]
    },
    {
      "cell_type": "markdown",
      "source": [
        "### **While Loop**"
      ],
      "metadata": {
        "id": "4cV1jEhMO0sQ"
      }
    },
    {
      "cell_type": "code",
      "source": [
        "num = 1\n",
        "while num <= 10:\n",
        "  print(num)\n",
        "  num+=1"
      ],
      "metadata": {
        "colab": {
          "base_uri": "https://localhost:8080/"
        },
        "id": "moT823zyNYFL",
        "outputId": "79a91e1b-7343-4129-e4f0-7a7db632f44d"
      },
      "execution_count": 49,
      "outputs": [
        {
          "output_type": "stream",
          "name": "stdout",
          "text": [
            "1\n",
            "2\n",
            "3\n",
            "4\n",
            "5\n",
            "6\n",
            "7\n",
            "8\n",
            "9\n",
            "10\n"
          ]
        }
      ]
    },
    {
      "cell_type": "code",
      "source": [
        "n = int(input())\n",
        "\n",
        "sum = 0\n",
        "i = 2\n",
        "\n",
        "while i <= n:\n",
        "  sum+=i\n",
        "  i+=2\n",
        "print(sum)"
      ],
      "metadata": {
        "colab": {
          "base_uri": "https://localhost:8080/"
        },
        "id": "3Daej8JbPHPj",
        "outputId": "46c09e2e-b090-48a7-8787-a98e25f4dc06"
      },
      "execution_count": 50,
      "outputs": [
        {
          "output_type": "stream",
          "name": "stdout",
          "text": [
            "16\n",
            "72\n"
          ]
        }
      ]
    },
    {
      "cell_type": "markdown",
      "source": [
        "### **Nested while loop**"
      ],
      "metadata": {
        "id": "Dx2XHdyGQGfI"
      }
    },
    {
      "cell_type": "code",
      "source": [
        "outer_count = 0\n",
        "\n",
        "while outer_count < 3:\n",
        "  print(f\"Outer loop iteration : {outer_count}\")\n",
        "\n",
        "  inner_count = 0\n",
        "  while inner_count<2:\n",
        "    print(f\"Inner loop iteration : {inner_count}\")\n",
        "    inner_count+=1\n",
        "\n",
        "  outer_count+=1"
      ],
      "metadata": {
        "colab": {
          "base_uri": "https://localhost:8080/"
        },
        "id": "nmFc8bEtPvNi",
        "outputId": "50a89635-7b7d-4124-d3d7-c042cb84e297"
      },
      "execution_count": 52,
      "outputs": [
        {
          "output_type": "stream",
          "name": "stdout",
          "text": [
            "Outer loop iteration : 0\n",
            "Inner loop iteration : 0\n",
            "Inner loop iteration : 1\n",
            "Outer loop iteration : 1\n",
            "Inner loop iteration : 0\n",
            "Inner loop iteration : 1\n",
            "Outer loop iteration : 2\n",
            "Inner loop iteration : 0\n",
            "Inner loop iteration : 1\n"
          ]
        }
      ]
    },
    {
      "cell_type": "markdown",
      "source": [
        "Find the sum of all even numbers from 1 to 100 using a for loop."
      ],
      "metadata": {
        "id": "y7ZJVMdgTGSD"
      }
    },
    {
      "cell_type": "code",
      "source": [
        "sum = 0\n",
        "\n",
        "for i in range(1,101):\n",
        "  if i%2 == 0:\n",
        "    sum += i\n",
        "print(sum)"
      ],
      "metadata": {
        "colab": {
          "base_uri": "https://localhost:8080/"
        },
        "id": "KVJvTU6EQeOZ",
        "outputId": "d0e27abd-5311-4025-93bd-af69a639e566"
      },
      "execution_count": 54,
      "outputs": [
        {
          "output_type": "stream",
          "name": "stdout",
          "text": [
            "2550\n"
          ]
        }
      ]
    },
    {
      "cell_type": "markdown",
      "source": [
        " Write a program to calculate the factorial of a number using a while loop."
      ],
      "metadata": {
        "id": "mvnw6q7VTBgT"
      }
    },
    {
      "cell_type": "code",
      "source": [
        "number = 5\n",
        "fact = 1\n",
        "\n",
        "while number>1:\n",
        "  fact = fact * number\n",
        "  number = number -1\n",
        "\n",
        "print(fact)"
      ],
      "metadata": {
        "colab": {
          "base_uri": "https://localhost:8080/"
        },
        "id": "Ji5CYbNcSAWs",
        "outputId": "d51ee1b1-ae02-44ff-bba2-4f23d7a73ca1"
      },
      "execution_count": 59,
      "outputs": [
        {
          "output_type": "stream",
          "name": "stdout",
          "text": [
            "120\n"
          ]
        }
      ]
    },
    {
      "cell_type": "code",
      "source": [],
      "metadata": {
        "id": "cyZICnEySqVM"
      },
      "execution_count": null,
      "outputs": []
    }
  ]
}