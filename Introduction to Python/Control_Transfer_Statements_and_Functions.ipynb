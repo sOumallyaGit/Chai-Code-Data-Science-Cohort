{
  "cells": [
    {
      "cell_type": "markdown",
      "metadata": {
        "id": "AwmQ4B2BsztL"
      },
      "source": [
        "## **Control Transfer Statement**"
      ]
    },
    {
      "cell_type": "markdown",
      "metadata": {
        "id": "rVu4XZkgs4x5"
      },
      "source": [
        "### **Break**"
      ]
    },
    {
      "cell_type": "code",
      "execution_count": null,
      "metadata": {
        "colab": {
          "base_uri": "https://localhost:8080/"
        },
        "id": "b_GgrsSJofS8",
        "outputId": "da6d5302-920e-4bc8-9d4f-45c8cc116f0d"
      },
      "outputs": [
        {
          "name": "stdout",
          "output_type": "stream",
          "text": [
            "Hello 0\n",
            "Hello 1\n",
            "Hello 2\n",
            "Hello 3\n",
            "Hello 4\n",
            "Hello 5\n"
          ]
        }
      ],
      "source": [
        "number = 0\n",
        "while number<=10:\n",
        "  print(f\"Hello {number}\")\n",
        "  if(number == 5):\n",
        "    break\n",
        "  number+=1"
      ]
    },
    {
      "cell_type": "code",
      "execution_count": null,
      "metadata": {
        "colab": {
          "base_uri": "https://localhost:8080/"
        },
        "id": "y4kaHo7HuF2I",
        "outputId": "1c46ddbc-5092-4120-8284-7eacabed7a2d"
      },
      "outputs": [
        {
          "name": "stdout",
          "output_type": "stream",
          "text": [
            "0\n",
            "1\n",
            "2\n"
          ]
        }
      ],
      "source": [
        "for i in range(0,5):\n",
        "  print(i)\n",
        "  if(i==2):\n",
        "    break"
      ]
    },
    {
      "cell_type": "code",
      "execution_count": null,
      "metadata": {
        "colab": {
          "base_uri": "https://localhost:8080/"
        },
        "id": "5A1dz-q2uxy5",
        "outputId": "d3e148a5-73ce-4672-e830-8d08714aded4"
      },
      "outputs": [
        {
          "name": "stdout",
          "output_type": "stream",
          "text": [
            "We are inside while loop\n",
            "We are inside while loop\n",
            "We are inside while loop\n",
            "We are inside while loop\n",
            "We are inside while loop\n"
          ]
        }
      ],
      "source": [
        "count = 0\n",
        "while True:\n",
        "  print(\"We are inside while loop\")\n",
        "  count+=1\n",
        "  if count==5:\n",
        "    break"
      ]
    },
    {
      "cell_type": "markdown",
      "metadata": {
        "id": "zjfKFIRqwX9d"
      },
      "source": [
        "### **Continue**"
      ]
    },
    {
      "cell_type": "code",
      "execution_count": null,
      "metadata": {
        "colab": {
          "base_uri": "https://localhost:8080/"
        },
        "id": "h8IfGkAjvCp-",
        "outputId": "fd429300-3a4a-4f9e-cae8-5cd1bfdfa9e1"
      },
      "outputs": [
        {
          "name": "stdout",
          "output_type": "stream",
          "text": [
            "1\n",
            "3\n",
            "5\n",
            "7\n",
            "9\n"
          ]
        }
      ],
      "source": [
        "numbers = [1,2,3,4,5,6,7,8,9,10]\n",
        "\n",
        "for num in numbers:\n",
        "  if num % 2 ==0:\n",
        "    continue\n",
        "  print(num)"
      ]
    },
    {
      "cell_type": "code",
      "execution_count": null,
      "metadata": {
        "colab": {
          "base_uri": "https://localhost:8080/"
        },
        "id": "ulZXgwAtw8Ku",
        "outputId": "be88183d-fb12-4bbd-dc97-f76a6489cdbb"
      },
      "outputs": [
        {
          "name": "stdout",
          "output_type": "stream",
          "text": [
            "1\n",
            "3\n",
            "5\n",
            "7\n",
            "9\n"
          ]
        }
      ],
      "source": [
        "for i in range(11):\n",
        "  if i % 2 == 0:\n",
        "    continue\n",
        "  print(i)"
      ]
    },
    {
      "cell_type": "code",
      "execution_count": null,
      "metadata": {
        "colab": {
          "base_uri": "https://localhost:8080/"
        },
        "id": "xiS-5F4SxQWi",
        "outputId": "9c064c36-9eb1-420a-a356-287387322235"
      },
      "outputs": [
        {
          "name": "stdout",
          "output_type": "stream",
          "text": [
            "1\n",
            "2\n",
            "4\n",
            "5\n",
            "1\n",
            "2\n",
            "4\n",
            "5\n"
          ]
        }
      ],
      "source": [
        "i = 1\n",
        "while i < 3:\n",
        "  j = 0\n",
        "  while j<5:\n",
        "    j = j+1\n",
        "    if j == 3:\n",
        "      continue\n",
        "    print(j)\n",
        "  i = i+1"
      ]
    },
    {
      "cell_type": "markdown",
      "metadata": {
        "id": "V8AQZ6Nj0hFx"
      },
      "source": [
        "### **Pass**"
      ]
    },
    {
      "cell_type": "code",
      "execution_count": null,
      "metadata": {
        "colab": {
          "base_uri": "https://localhost:8080/"
        },
        "id": "iKdm3TjIxvrp",
        "outputId": "733d11f2-a725-471b-c367-a02e420cb499"
      },
      "outputs": [
        {
          "name": "stdout",
          "output_type": "stream",
          "text": [
            "0\n",
            "1\n",
            "2\n",
            "3\n",
            "4\n"
          ]
        }
      ],
      "source": [
        "count = 0\n",
        "\n",
        "while count<5:\n",
        "  pass ## This will be a place holder statement for writing future code\n",
        "  print(count)\n",
        "  count = count+1"
      ]
    },
    {
      "cell_type": "markdown",
      "metadata": {
        "id": "rhk6dhkN4XtU"
      },
      "source": [
        "## **Functions**"
      ]
    },
    {
      "cell_type": "code",
      "execution_count": null,
      "metadata": {
        "colab": {
          "base_uri": "https://localhost:8080/"
        },
        "id": "orbeMuD51Iav",
        "outputId": "43d96a79-610d-4747-ce87-14374ae2189e"
      },
      "outputs": [
        {
          "name": "stdout",
          "output_type": "stream",
          "text": [
            "Hello Soumallya\n"
          ]
        }
      ],
      "source": [
        "def greet(name):\n",
        "  return f\"Hello {name}\"\n",
        "\n",
        "output = greet(\"Soumallya\")\n",
        "print(output)"
      ]
    },
    {
      "cell_type": "code",
      "execution_count": null,
      "metadata": {
        "colab": {
          "base_uri": "https://localhost:8080/"
        },
        "id": "RmD3z6UT47vv",
        "outputId": "ad4a4cd9-370c-4dac-b307-d3b29e5d1804"
      },
      "outputs": [
        {
          "name": "stdout",
          "output_type": "stream",
          "text": [
            "One of the Learner in this course is Aritra\n"
          ]
        }
      ],
      "source": [
        "def myfunction(*learners):\n",
        "  print(f\"One of the Learner in this course is {learners[2]}\")\n",
        "\n",
        "myfunction(\"Raman\",\"Soumallya\",\"Aritra\")"
      ]
    },
    {
      "cell_type": "code",
      "execution_count": null,
      "metadata": {
        "colab": {
          "base_uri": "https://localhost:8080/"
        },
        "id": "ToHzFyMX6hAP",
        "outputId": "633db45d-b94d-4184-c48e-77c856ca4ac8"
      },
      "outputs": [
        {
          "name": "stdout",
          "output_type": "stream",
          "text": [
            "I am from USA\n",
            "I am from UK\n",
            "I am from India\n",
            "I am from Japan\n"
          ]
        }
      ],
      "source": [
        "def my_country(country=\"India\"):\n",
        "  print(\"I am from \" +country)\n",
        "\n",
        "my_country(\"USA\")\n",
        "my_country(\"UK\")\n",
        "my_country() ## default Parameter\n",
        "my_country(\"Japan\")"
      ]
    },
    {
      "cell_type": "code",
      "execution_count": null,
      "metadata": {
        "colab": {
          "base_uri": "https://localhost:8080/",
          "height": 106
        },
        "id": "naLT7jyt7fpy",
        "outputId": "fbf09dfc-5d52-43c0-f5e8-a9978f1f674b"
      },
      "outputs": [
        {
          "ename": "SyntaxError",
          "evalue": "non-default argument follows default argument (<ipython-input-16-e05bc80a73c3>, line 1)",
          "output_type": "error",
          "traceback": [
            "\u001b[0;36m  File \u001b[0;32m\"<ipython-input-16-e05bc80a73c3>\"\u001b[0;36m, line \u001b[0;32m1\u001b[0m\n\u001b[0;31m    def function(a,b=10,c):\u001b[0m\n\u001b[0m                        ^\u001b[0m\n\u001b[0;31mSyntaxError\u001b[0m\u001b[0;31m:\u001b[0m non-default argument follows default argument\n"
          ]
        }
      ],
      "source": [
        "## Not possbile\n",
        "def function(a,b=10,c):\n",
        "  return a+b-c\n",
        "\n",
        "output = function(10, ,12)\n",
        "print(output)"
      ]
    },
    {
      "cell_type": "code",
      "execution_count": null,
      "metadata": {
        "colab": {
          "base_uri": "https://localhost:8080/"
        },
        "id": "0juGOfgz8C37",
        "outputId": "c7e38408-1f29-433c-add3-fc81467c1775"
      },
      "outputs": [
        {
          "name": "stdout",
          "output_type": "stream",
          "text": [
            "12\n"
          ]
        }
      ],
      "source": [
        "## Possible\n",
        "def function(a,b,c=10):\n",
        "  return a+b-c\n",
        "\n",
        "output = function(10,12)\n",
        "print(output)"
      ]
    },
    {
      "cell_type": "code",
      "execution_count": null,
      "metadata": {
        "colab": {
          "base_uri": "https://localhost:8080/"
        },
        "id": "UbU4uUKb8cfZ",
        "outputId": "15cef0bf-7c91-4413-ce82-28d439ec93a4"
      },
      "outputs": [
        {
          "name": "stdout",
          "output_type": "stream",
          "text": [
            "12\n"
          ]
        }
      ],
      "source": [
        "def calculateResult(x,y,w=1,z=5):\n",
        "  return x+y+w+z\n",
        "\n",
        "output = calculateResult(1,2,4)\n",
        "print(output)"
      ]
    },
    {
      "cell_type": "code",
      "execution_count": null,
      "metadata": {
        "colab": {
          "base_uri": "https://localhost:8080/"
        },
        "id": "_JWkKjFt8qWs",
        "outputId": "3fe27155-ccef-40fc-a7b5-58bc50073856"
      },
      "outputs": [
        {
          "name": "stdout",
          "output_type": "stream",
          "text": [
            "1\n",
            "2\n",
            "3\n",
            "4\n",
            "5\n"
          ]
        }
      ],
      "source": [
        "def my_function(lst):\n",
        "  for i in lst:\n",
        "    print(i)\n",
        "\n",
        "my_function([1,2,3,4,5])"
      ]
    },
    {
      "cell_type": "markdown",
      "metadata": {
        "id": "8iovUbSG_EAB"
      },
      "source": [
        "Create a function \"calculate\" in which it is having add functionality, subtraction functionality, multiplication and division functionality of two numbers."
      ]
    },
    {
      "cell_type": "code",
      "execution_count": null,
      "metadata": {
        "colab": {
          "base_uri": "https://localhost:8080/"
        },
        "id": "wSV2Quxt9Rzb",
        "outputId": "69c7c4b3-a40d-4264-c011-6ca5b1ef4909"
      },
      "outputs": [
        {
          "name": "stdout",
          "output_type": "stream",
          "text": [
            "0\n"
          ]
        }
      ],
      "source": [
        "def calc(op1,op2,op=\"+\"):\n",
        "  def sum(op1,op2):\n",
        "    return op1+op2\n",
        "  def sub(op1,op2):\n",
        "    return op1-op2\n",
        "  def mul(op1,op2):\n",
        "    return op1*op2\n",
        "  def div(op1,op2):\n",
        "    return op1/op2\n",
        "  if op == \"+\":\n",
        "    return sum(op1,op2)\n",
        "  elif op == \"-\":\n",
        "    return sub(op1,op2)\n",
        "  elif op == \"*\":\n",
        "    return mul(op1,op2)\n",
        "  else :\n",
        "    return div(op1,op2)\n",
        "\n",
        "output = calc(10,0,\"*\")\n",
        "print(output)"
      ]
    },
    {
      "cell_type": "markdown",
      "metadata": {
        "id": "hP05k7p4BGnd"
      },
      "source": [
        "### **Print V/S Return in function**"
      ]
    },
    {
      "cell_type": "code",
      "execution_count": null,
      "metadata": {
        "colab": {
          "base_uri": "https://localhost:8080/"
        },
        "id": "P6doeBq7-gV6",
        "outputId": "09345a0d-a372-4f35-e214-b65c6365adbf"
      },
      "outputs": [
        {
          "name": "stdout",
          "output_type": "stream",
          "text": [
            "30\n",
            "30\n"
          ]
        }
      ],
      "source": [
        "def add_with_print(a,b):\n",
        "  print(a+b)\n",
        "\n",
        "def add_with_return(a,b):\n",
        "  return a+b\n",
        "\n",
        "add_with_print(10,20)\n",
        "result = add_with_return(10,20)\n",
        "print(result)"
      ]
    },
    {
      "cell_type": "markdown",
      "metadata": {
        "id": "5Wk7s42CDTx4"
      },
      "source": [
        "### **If a number is armstrong number**"
      ]
    },
    {
      "cell_type": "code",
      "execution_count": null,
      "metadata": {
        "colab": {
          "base_uri": "https://localhost:8080/"
        },
        "id": "DEjwp1gxA5E8",
        "outputId": "f9ca0e97-5e50-4ee1-db66-1685e2c4f0b5"
      },
      "outputs": [
        {
          "name": "stdout",
          "output_type": "stream",
          "text": [
            "Armstrong Number\n"
          ]
        }
      ],
      "source": [
        "number = 153\n",
        "\n",
        "def armstrongNumber(number):\n",
        "  n = 0\n",
        "\n",
        "  temp=number\n",
        "\n",
        "  while temp!=0:\n",
        "    temp = temp//10\n",
        "    n+=1\n",
        "\n",
        "\n",
        "  sum = 0\n",
        "  temp = number\n",
        "\n",
        "  while temp!=0:\n",
        "    digit = temp%10\n",
        "    sum += digit **n\n",
        "    temp = temp//10\n",
        "\n",
        "  if sum==number:\n",
        "      print(\"Armstrong Number\")\n",
        "  else:\n",
        "      print(\"Not Armstrong Number\")\n",
        "\n",
        "armstrongNumber(153)"
      ]
    },
    {
      "cell_type": "markdown",
      "metadata": {
        "id": "v6GPV8pLDY2F"
      },
      "source": [
        "### **Another way**"
      ]
    },
    {
      "cell_type": "code",
      "execution_count": null,
      "metadata": {
        "colab": {
          "base_uri": "https://localhost:8080/"
        },
        "id": "ctsydVKuDM9i",
        "outputId": "3ee73456-d1fb-4a73-c0da-db291dafd4f5"
      },
      "outputs": [
        {
          "data": {
            "text/plain": [
              "False"
            ]
          },
          "execution_count": 40,
          "metadata": {},
          "output_type": "execute_result"
        }
      ],
      "source": [
        "def is_armstrong(num):\n",
        "  str_num = str(num)\n",
        "  num_digits = len(str_num)\n",
        "\n",
        "  sumOfPowers = 0\n",
        "\n",
        "  for digit in str_num :\n",
        "    sumOfPowers += int(digit)**num_digits\n",
        "\n",
        "  if sumOfPowers == num:\n",
        "    return True\n",
        "  else:\n",
        "    return False\n",
        "\n",
        "is_armstrong(9174)"
      ]
    },
    {
      "cell_type": "markdown",
      "metadata": {
        "id": "q4E9kFAeFH9N"
      },
      "source": [
        "### **Multiple Value Return**"
      ]
    },
    {
      "cell_type": "code",
      "execution_count": null,
      "metadata": {
        "colab": {
          "base_uri": "https://localhost:8080/"
        },
        "id": "ib42qzs-DvsB",
        "outputId": "21117cca-d4a7-4699-a7a0-22f3dcf740e4"
      },
      "outputs": [
        {
          "name": "stdout",
          "output_type": "stream",
          "text": [
            "16\n",
            "60\n"
          ]
        }
      ],
      "source": [
        "def sum_and_product(a,b):\n",
        "  sum = a+b\n",
        "  product = a*b\n",
        "  return sum,product\n",
        "\n",
        "num1 = 6\n",
        "num2 = 10\n",
        "sum_result , product_result = sum_and_product(num1,num2)\n",
        "print(sum_result)\n",
        "print(product_result)"
      ]
    },
    {
      "cell_type": "markdown",
      "metadata": {
        "id": "U8mLXHWZFt9T"
      },
      "source": [
        "### **Nested Function**\n",
        "\n"
      ]
    },
    {
      "cell_type": "code",
      "execution_count": null,
      "metadata": {
        "colab": {
          "base_uri": "https://localhost:8080/"
        },
        "id": "JiUryfYVFcrc",
        "outputId": "54b06d3b-0bb9-4612-ca14-c8508da197ca"
      },
      "outputs": [
        {
          "name": "stdout",
          "output_type": "stream",
          "text": [
            "(6, 5)\n"
          ]
        }
      ],
      "source": [
        "def calculator(x,y):\n",
        "  def add(x,y):\n",
        "    return x+y\n",
        "  def multiply(x,y):\n",
        "    return x*y\n",
        "  def calc(op,x,y):\n",
        "    if op == \"add\":\n",
        "      return add(x,y)\n",
        "    else:\n",
        "      return multiply(x,y)\n",
        "\n",
        "  return calc(\"multiply\",x,y) , calc(\"add\",x,y)\n",
        "\n",
        "result = calculator(2,3)\n",
        "print(result)"
      ]
    },
    {
      "cell_type": "markdown",
      "metadata": {
        "id": "dczMmpfcl4yP"
      },
      "source": [
        "### **args**"
      ]
    },
    {
      "cell_type": "code",
      "execution_count": 1,
      "metadata": {
        "colab": {
          "base_uri": "https://localhost:8080/"
        },
        "id": "JjZ7WzyIGXom",
        "outputId": "689df7b2-91f3-4c5a-8fbc-ed4409504feb"
      },
      "outputs": [
        {
          "name": "stdout",
          "output_type": "stream",
          "text": [
            "Soumallya\n",
            "Chandra\n",
            "Chandra\n"
          ]
        }
      ],
      "source": [
        "def myFun(*args): #it uses data structure tuple\n",
        "  for arg in args:\n",
        "    print(arg)\n",
        "\n",
        "myFun('Soumallya','Chandra','Chandra')"
      ]
    },
    {
      "cell_type": "code",
      "execution_count": 5,
      "metadata": {
        "colab": {
          "base_uri": "https://localhost:8080/"
        },
        "id": "qr36lkeZ2tor",
        "outputId": "d5b5c552-175f-4d71-c1cc-f5d61292fcb3"
      },
      "outputs": [
        {
          "name": "stdout",
          "output_type": "stream",
          "text": [
            "1\n",
            "2\n",
            "3\n",
            "4\n"
          ]
        }
      ],
      "source": [
        "def print_args(*args):\n",
        "  for arg in args:\n",
        "    print(arg)\n",
        "\n",
        "print_args(1,2,3,4)"
      ]
    },
    {
      "cell_type": "markdown",
      "metadata": {
        "id": "gduFZK-ImIxd"
      },
      "source": [
        "### **Kwargs**"
      ]
    },
    {
      "cell_type": "code",
      "execution_count": 3,
      "metadata": {
        "colab": {
          "base_uri": "https://localhost:8080/"
        },
        "id": "jecLPkbpmFNr",
        "outputId": "7f98c16a-2774-4441-8078-f064eb146653"
      },
      "outputs": [
        {
          "name": "stdout",
          "output_type": "stream",
          "text": [
            "{'name': 'Soumallya', 'age': 30}\n"
          ]
        }
      ],
      "source": [
        "def my_fun(**kwargs): # it uses data structure dictionary\n",
        "  print(kwargs)\n",
        "\n",
        "my_fun(name=\"Soumallya\",age=30)"
      ]
    },
    {
      "cell_type": "code",
      "execution_count": 6,
      "metadata": {
        "colab": {
          "base_uri": "https://localhost:8080/"
        },
        "id": "VTOODn5B2sUW",
        "outputId": "e6f487e7-bb60-4b6d-f8bf-dbb47f15acf0"
      },
      "outputs": [
        {
          "name": "stdout",
          "output_type": "stream",
          "text": [
            "name : Soumallya\n",
            "salary : 30000\n",
            "city : Bangalore\n"
          ]
        }
      ],
      "source": [
        "def print_kargs(**kwargs):\n",
        "  for key,value in kwargs.items():\n",
        "    print(f\"{key} : {value}\")\n",
        "\n",
        "print_kargs(name=\"Soumallya\",salary=30000,city=\"Bangalore\")"
      ]
    },
    {
      "cell_type": "markdown",
      "metadata": {
        "id": "N9TrTtgK4JX-"
      },
      "source": [
        "### **Recursion**"
      ]
    },
    {
      "cell_type": "code",
      "execution_count": 10,
      "metadata": {
        "colab": {
          "base_uri": "https://localhost:8080/"
        },
        "id": "eiNCId4l3IoX",
        "outputId": "9d269687-6c30-436b-a4ec-39695fe401ea"
      },
      "outputs": [
        {
          "name": "stdout",
          "output_type": "stream",
          "text": [
            "120\n"
          ]
        }
      ],
      "source": [
        "## Factorial of a number (iterative)\n",
        "number = 5\n",
        "fact = 1\n",
        "\n",
        "for i in range(1,number+1):\n",
        "  fact = fact*i\n",
        "\n",
        "print(fact)"
      ]
    },
    {
      "cell_type": "code",
      "execution_count": 14,
      "metadata": {
        "colab": {
          "base_uri": "https://localhost:8080/"
        },
        "id": "pLuU8PWg4zM_",
        "outputId": "5b86a7b7-cd06-494a-aafe-6adc6ea7671b"
      },
      "outputs": [
        {
          "name": "stdout",
          "output_type": "stream",
          "text": [
            "1\n"
          ]
        }
      ],
      "source": [
        "def factorial(number): ## recursive way\n",
        "  ## Base case condition\n",
        "  if number == 0 or number == 1:\n",
        "    return 1\n",
        "  else :\n",
        "    return number*factorial(number-1)\n",
        "\n",
        "\n",
        "result = factorial(0)\n",
        "print(result)"
      ]
    },
    {
      "cell_type": "markdown",
      "metadata": {
        "id": "eoROGsh49fLN"
      },
      "source": [
        "### **Lambda Functions**"
      ]
    },
    {
      "cell_type": "code",
      "execution_count": 15,
      "metadata": {
        "colab": {
          "base_uri": "https://localhost:8080/"
        },
        "id": "Y7u3Q4Sv69xY",
        "outputId": "7979a996-b9b9-4c8b-8266-bb21ad6d0247"
      },
      "outputs": [
        {
          "name": "stdout",
          "output_type": "stream",
          "text": [
            "5\n"
          ]
        }
      ],
      "source": [
        "add = lambda a,b : a+b\n",
        "print(add(2,3))"
      ]
    },
    {
      "cell_type": "code",
      "execution_count": 17,
      "metadata": {
        "colab": {
          "base_uri": "https://localhost:8080/"
        },
        "id": "DZPVqO0r92W_",
        "outputId": "8e82b074-a752-4eca-ca39-48c7094672ac"
      },
      "outputs": [
        {
          "name": "stdout",
          "output_type": "stream",
          "text": [
            "25\n"
          ]
        }
      ],
      "source": [
        "square = lambda a : a **2\n",
        "print(square(5))"
      ]
    },
    {
      "cell_type": "code",
      "execution_count": 21,
      "metadata": {
        "colab": {
          "base_uri": "https://localhost:8080/"
        },
        "id": "BoBbEj_m-T0k",
        "outputId": "7a911562-e26c-4d6c-c3f1-1edd6944897d"
      },
      "outputs": [
        {
          "name": "stdout",
          "output_type": "stream",
          "text": [
            "[('Soumallya', 88), ('Prem', 89), ('Pritha', 90), ('Mohit', 93)]\n",
            "[('Mohit', 93), ('Pritha', 90), ('Prem', 89), ('Soumallya', 88)]\n"
          ]
        }
      ],
      "source": [
        "learners_score = {\n",
        "    'Soumallya' : 88,\n",
        "    'Pritha' : 90,\n",
        "    'Prem' : 89,\n",
        "    'Mohit' : 93\n",
        "}\n",
        "\n",
        "## Sorting above dictionary in aescending order\n",
        "print(sorted(learners_score.items(),key=lambda item : item[1]))\n",
        "## Descending order\n",
        "print(sorted(learners_score.items(),key=lambda item : item[1],reverse=True))"
      ]
    },
    {
      "cell_type": "code",
      "execution_count": null,
      "metadata": {
        "id": "QLuCjM8r_45y"
      },
      "outputs": [],
      "source": []
    }
  ],
  "metadata": {
    "colab": {
      "provenance": []
    },
    "kernelspec": {
      "display_name": "Python 3",
      "name": "python3"
    },
    "language_info": {
      "name": "python",
      "version": "3.12.4"
    }
  },
  "nbformat": 4,
  "nbformat_minor": 0
}
