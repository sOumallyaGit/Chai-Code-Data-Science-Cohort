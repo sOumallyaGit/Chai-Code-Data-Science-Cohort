{
  "nbformat": 4,
  "nbformat_minor": 0,
  "metadata": {
    "colab": {
      "provenance": []
    },
    "kernelspec": {
      "name": "python3",
      "display_name": "Python 3"
    },
    "language_info": {
      "name": "python"
    }
  },
  "cells": [
    {
      "cell_type": "markdown",
      "source": [
        "## **Control Transfer Statement**"
      ],
      "metadata": {
        "id": "AwmQ4B2BsztL"
      }
    },
    {
      "cell_type": "markdown",
      "source": [
        "### **Break**"
      ],
      "metadata": {
        "id": "rVu4XZkgs4x5"
      }
    },
    {
      "cell_type": "code",
      "execution_count": 4,
      "metadata": {
        "colab": {
          "base_uri": "https://localhost:8080/"
        },
        "id": "b_GgrsSJofS8",
        "outputId": "da6d5302-920e-4bc8-9d4f-45c8cc116f0d"
      },
      "outputs": [
        {
          "output_type": "stream",
          "name": "stdout",
          "text": [
            "Hello 0\n",
            "Hello 1\n",
            "Hello 2\n",
            "Hello 3\n",
            "Hello 4\n",
            "Hello 5\n"
          ]
        }
      ],
      "source": [
        "number = 0\n",
        "while number<=10:\n",
        "  print(f\"Hello {number}\")\n",
        "  if(number == 5):\n",
        "    break\n",
        "  number+=1"
      ]
    },
    {
      "cell_type": "code",
      "source": [
        "for i in range(0,5):\n",
        "  print(i)\n",
        "  if(i==2):\n",
        "    break"
      ],
      "metadata": {
        "colab": {
          "base_uri": "https://localhost:8080/"
        },
        "id": "y4kaHo7HuF2I",
        "outputId": "1c46ddbc-5092-4120-8284-7eacabed7a2d"
      },
      "execution_count": 5,
      "outputs": [
        {
          "output_type": "stream",
          "name": "stdout",
          "text": [
            "0\n",
            "1\n",
            "2\n"
          ]
        }
      ]
    },
    {
      "cell_type": "code",
      "source": [
        "count = 0\n",
        "while True:\n",
        "  print(\"We are inside while loop\")\n",
        "  count+=1\n",
        "  if count==5:\n",
        "    break"
      ],
      "metadata": {
        "colab": {
          "base_uri": "https://localhost:8080/"
        },
        "id": "5A1dz-q2uxy5",
        "outputId": "d3e148a5-73ce-4672-e830-8d08714aded4"
      },
      "execution_count": 7,
      "outputs": [
        {
          "output_type": "stream",
          "name": "stdout",
          "text": [
            "We are inside while loop\n",
            "We are inside while loop\n",
            "We are inside while loop\n",
            "We are inside while loop\n",
            "We are inside while loop\n"
          ]
        }
      ]
    },
    {
      "cell_type": "markdown",
      "source": [
        "### **Continue**"
      ],
      "metadata": {
        "id": "zjfKFIRqwX9d"
      }
    },
    {
      "cell_type": "code",
      "source": [
        "numbers = [1,2,3,4,5,6,7,8,9,10]\n",
        "\n",
        "for num in numbers:\n",
        "  if num % 2 ==0:\n",
        "    continue\n",
        "  print(num)"
      ],
      "metadata": {
        "colab": {
          "base_uri": "https://localhost:8080/"
        },
        "id": "h8IfGkAjvCp-",
        "outputId": "fd429300-3a4a-4f9e-cae8-5cd1bfdfa9e1"
      },
      "execution_count": 8,
      "outputs": [
        {
          "output_type": "stream",
          "name": "stdout",
          "text": [
            "1\n",
            "3\n",
            "5\n",
            "7\n",
            "9\n"
          ]
        }
      ]
    },
    {
      "cell_type": "code",
      "source": [
        "for i in range(11):\n",
        "  if i % 2 == 0:\n",
        "    continue\n",
        "  print(i)"
      ],
      "metadata": {
        "colab": {
          "base_uri": "https://localhost:8080/"
        },
        "id": "ulZXgwAtw8Ku",
        "outputId": "be88183d-fb12-4bbd-dc97-f76a6489cdbb"
      },
      "execution_count": 9,
      "outputs": [
        {
          "output_type": "stream",
          "name": "stdout",
          "text": [
            "1\n",
            "3\n",
            "5\n",
            "7\n",
            "9\n"
          ]
        }
      ]
    },
    {
      "cell_type": "code",
      "source": [
        "i = 1\n",
        "while i < 3:\n",
        "  j = 0\n",
        "  while j<5:\n",
        "    j = j+1\n",
        "    if j == 3:\n",
        "      continue\n",
        "    print(j)\n",
        "  i = i+1"
      ],
      "metadata": {
        "colab": {
          "base_uri": "https://localhost:8080/"
        },
        "id": "xiS-5F4SxQWi",
        "outputId": "9c064c36-9eb1-420a-a356-287387322235"
      },
      "execution_count": 10,
      "outputs": [
        {
          "output_type": "stream",
          "name": "stdout",
          "text": [
            "1\n",
            "2\n",
            "4\n",
            "5\n",
            "1\n",
            "2\n",
            "4\n",
            "5\n"
          ]
        }
      ]
    },
    {
      "cell_type": "markdown",
      "source": [
        "### **Pass**"
      ],
      "metadata": {
        "id": "V8AQZ6Nj0hFx"
      }
    },
    {
      "cell_type": "code",
      "source": [
        "count = 0\n",
        "\n",
        "while count<5:\n",
        "  pass ## This will be a place holder statement for writing future code\n",
        "  print(count)\n",
        "  count = count+1"
      ],
      "metadata": {
        "colab": {
          "base_uri": "https://localhost:8080/"
        },
        "id": "iKdm3TjIxvrp",
        "outputId": "733d11f2-a725-471b-c367-a02e420cb499"
      },
      "execution_count": 11,
      "outputs": [
        {
          "output_type": "stream",
          "name": "stdout",
          "text": [
            "0\n",
            "1\n",
            "2\n",
            "3\n",
            "4\n"
          ]
        }
      ]
    },
    {
      "cell_type": "markdown",
      "source": [
        "## **Functions**"
      ],
      "metadata": {
        "id": "rhk6dhkN4XtU"
      }
    },
    {
      "cell_type": "code",
      "source": [
        "def greet(name):\n",
        "  return f\"Hello {name}\"\n",
        "\n",
        "output = greet(\"Soumallya\")\n",
        "print(output)"
      ],
      "metadata": {
        "colab": {
          "base_uri": "https://localhost:8080/"
        },
        "id": "orbeMuD51Iav",
        "outputId": "43d96a79-610d-4747-ce87-14374ae2189e"
      },
      "execution_count": 12,
      "outputs": [
        {
          "output_type": "stream",
          "name": "stdout",
          "text": [
            "Hello Soumallya\n"
          ]
        }
      ]
    },
    {
      "cell_type": "code",
      "source": [
        "def myfunction(*learners):\n",
        "  print(f\"One of the Learner in this course is {learners[2]}\")\n",
        "\n",
        "myfunction(\"Raman\",\"Soumallya\",\"Aritra\")"
      ],
      "metadata": {
        "colab": {
          "base_uri": "https://localhost:8080/"
        },
        "id": "RmD3z6UT47vv",
        "outputId": "ad4a4cd9-370c-4dac-b307-d3b29e5d1804"
      },
      "execution_count": 13,
      "outputs": [
        {
          "output_type": "stream",
          "name": "stdout",
          "text": [
            "One of the Learner in this course is Aritra\n"
          ]
        }
      ]
    },
    {
      "cell_type": "code",
      "source": [
        "def my_country(country=\"India\"):\n",
        "  print(\"I am from \" +country)\n",
        "\n",
        "my_country(\"USA\")\n",
        "my_country(\"UK\")\n",
        "my_country() ## default Parameter\n",
        "my_country(\"Japan\")"
      ],
      "metadata": {
        "colab": {
          "base_uri": "https://localhost:8080/"
        },
        "id": "ToHzFyMX6hAP",
        "outputId": "633db45d-b94d-4184-c48e-77c856ca4ac8"
      },
      "execution_count": 14,
      "outputs": [
        {
          "output_type": "stream",
          "name": "stdout",
          "text": [
            "I am from USA\n",
            "I am from UK\n",
            "I am from India\n",
            "I am from Japan\n"
          ]
        }
      ]
    },
    {
      "cell_type": "code",
      "source": [
        "## Not possbile\n",
        "def function(a,b=10,c):\n",
        "  return a+b-c\n",
        "\n",
        "output = function(10, ,12)\n",
        "print(output)"
      ],
      "metadata": {
        "colab": {
          "base_uri": "https://localhost:8080/",
          "height": 106
        },
        "id": "naLT7jyt7fpy",
        "outputId": "fbf09dfc-5d52-43c0-f5e8-a9978f1f674b"
      },
      "execution_count": 16,
      "outputs": [
        {
          "output_type": "error",
          "ename": "SyntaxError",
          "evalue": "non-default argument follows default argument (<ipython-input-16-e05bc80a73c3>, line 1)",
          "traceback": [
            "\u001b[0;36m  File \u001b[0;32m\"<ipython-input-16-e05bc80a73c3>\"\u001b[0;36m, line \u001b[0;32m1\u001b[0m\n\u001b[0;31m    def function(a,b=10,c):\u001b[0m\n\u001b[0m                        ^\u001b[0m\n\u001b[0;31mSyntaxError\u001b[0m\u001b[0;31m:\u001b[0m non-default argument follows default argument\n"
          ]
        }
      ]
    },
    {
      "cell_type": "code",
      "source": [
        "## Possible\n",
        "def function(a,b,c=10):\n",
        "  return a+b-c\n",
        "\n",
        "output = function(10,12)\n",
        "print(output)"
      ],
      "metadata": {
        "colab": {
          "base_uri": "https://localhost:8080/"
        },
        "id": "0juGOfgz8C37",
        "outputId": "c7e38408-1f29-433c-add3-fc81467c1775"
      },
      "execution_count": 17,
      "outputs": [
        {
          "output_type": "stream",
          "name": "stdout",
          "text": [
            "12\n"
          ]
        }
      ]
    },
    {
      "cell_type": "code",
      "source": [
        "def calculateResult(x,y,w=1,z=5):\n",
        "  return x+y+w+z\n",
        "\n",
        "output = calculateResult(1,2,4)\n",
        "print(output)"
      ],
      "metadata": {
        "colab": {
          "base_uri": "https://localhost:8080/"
        },
        "id": "UbU4uUKb8cfZ",
        "outputId": "15cef0bf-7c91-4413-ce82-28d439ec93a4"
      },
      "execution_count": 20,
      "outputs": [
        {
          "output_type": "stream",
          "name": "stdout",
          "text": [
            "12\n"
          ]
        }
      ]
    },
    {
      "cell_type": "code",
      "source": [
        "def my_function(lst):\n",
        "  for i in lst:\n",
        "    print(i)\n",
        "\n",
        "my_function([1,2,3,4,5])"
      ],
      "metadata": {
        "colab": {
          "base_uri": "https://localhost:8080/"
        },
        "id": "_JWkKjFt8qWs",
        "outputId": "3fe27155-ccef-40fc-a7b5-58bc50073856"
      },
      "execution_count": 22,
      "outputs": [
        {
          "output_type": "stream",
          "name": "stdout",
          "text": [
            "1\n",
            "2\n",
            "3\n",
            "4\n",
            "5\n"
          ]
        }
      ]
    },
    {
      "cell_type": "markdown",
      "source": [
        "Create a function \"calculate\" in which it is having add functionality, subtraction functionality, multiplication and division functionality of two numbers."
      ],
      "metadata": {
        "id": "8iovUbSG_EAB"
      }
    },
    {
      "cell_type": "code",
      "source": [
        "def calc(op1,op2,op=\"+\"):\n",
        "  def sum(op1,op2):\n",
        "    return op1+op2\n",
        "  def sub(op1,op2):\n",
        "    return op1-op2\n",
        "  def mul(op1,op2):\n",
        "    return op1*op2\n",
        "  def div(op1,op2):\n",
        "    return op1/op2\n",
        "  if op == \"+\":\n",
        "    return sum(op1,op2)\n",
        "  elif op == \"-\":\n",
        "    return sub(op1,op2)\n",
        "  elif op == \"*\":\n",
        "    return mul(op1,op2)\n",
        "  else :\n",
        "    return div(op1,op2)\n",
        "\n",
        "output = calc(10,0,\"*\")\n",
        "print(output)"
      ],
      "metadata": {
        "colab": {
          "base_uri": "https://localhost:8080/"
        },
        "id": "wSV2Quxt9Rzb",
        "outputId": "69c7c4b3-a40d-4264-c011-6ca5b1ef4909"
      },
      "execution_count": 28,
      "outputs": [
        {
          "output_type": "stream",
          "name": "stdout",
          "text": [
            "0\n"
          ]
        }
      ]
    },
    {
      "cell_type": "markdown",
      "source": [
        "### **Print V/S Return in function**"
      ],
      "metadata": {
        "id": "hP05k7p4BGnd"
      }
    },
    {
      "cell_type": "code",
      "source": [
        "def add_with_print(a,b):\n",
        "  print(a+b)\n",
        "\n",
        "def add_with_return(a,b):\n",
        "  return a+b\n",
        "\n",
        "add_with_print(10,20)\n",
        "result = add_with_return(10,20)\n",
        "print(result)"
      ],
      "metadata": {
        "colab": {
          "base_uri": "https://localhost:8080/"
        },
        "id": "P6doeBq7-gV6",
        "outputId": "09345a0d-a372-4f35-e214-b65c6365adbf"
      },
      "execution_count": 30,
      "outputs": [
        {
          "output_type": "stream",
          "name": "stdout",
          "text": [
            "30\n",
            "30\n"
          ]
        }
      ]
    },
    {
      "cell_type": "markdown",
      "source": [
        "### **If a number is armstrong number**"
      ],
      "metadata": {
        "id": "5Wk7s42CDTx4"
      }
    },
    {
      "cell_type": "code",
      "source": [
        "number = 153\n",
        "\n",
        "def armstrongNumber(number):\n",
        "  n = 0\n",
        "\n",
        "  temp=number\n",
        "\n",
        "  while temp!=0:\n",
        "    temp = temp//10\n",
        "    n+=1\n",
        "\n",
        "\n",
        "  sum = 0\n",
        "  temp = number\n",
        "\n",
        "  while temp!=0:\n",
        "    digit = temp%10\n",
        "    sum += digit **n\n",
        "    temp = temp//10\n",
        "\n",
        "  if sum==number:\n",
        "      print(\"Armstrong Number\")\n",
        "  else:\n",
        "      print(\"Not Armstrong Number\")\n",
        "\n",
        "armstrongNumber(153)"
      ],
      "metadata": {
        "colab": {
          "base_uri": "https://localhost:8080/"
        },
        "id": "DEjwp1gxA5E8",
        "outputId": "f9ca0e97-5e50-4ee1-db66-1685e2c4f0b5"
      },
      "execution_count": 34,
      "outputs": [
        {
          "output_type": "stream",
          "name": "stdout",
          "text": [
            "Armstrong Number\n"
          ]
        }
      ]
    },
    {
      "cell_type": "markdown",
      "source": [
        "### **Another way**"
      ],
      "metadata": {
        "id": "v6GPV8pLDY2F"
      }
    },
    {
      "cell_type": "code",
      "source": [
        "def is_armstrong(num):\n",
        "  str_num = str(num)\n",
        "  num_digits = len(str_num)\n",
        "\n",
        "  sumOfPowers = 0\n",
        "\n",
        "  for digit in str_num :\n",
        "    sumOfPowers += int(digit)**num_digits\n",
        "\n",
        "  if sumOfPowers == num:\n",
        "    return True\n",
        "  else:\n",
        "    return False\n",
        "\n",
        "is_armstrong(9174)"
      ],
      "metadata": {
        "colab": {
          "base_uri": "https://localhost:8080/"
        },
        "id": "ctsydVKuDM9i",
        "outputId": "3ee73456-d1fb-4a73-c0da-db291dafd4f5"
      },
      "execution_count": 40,
      "outputs": [
        {
          "output_type": "execute_result",
          "data": {
            "text/plain": [
              "False"
            ]
          },
          "metadata": {},
          "execution_count": 40
        }
      ]
    },
    {
      "cell_type": "markdown",
      "source": [
        "### **Multiple Value Return**"
      ],
      "metadata": {
        "id": "q4E9kFAeFH9N"
      }
    },
    {
      "cell_type": "code",
      "source": [
        "def sum_and_product(a,b):\n",
        "  sum = a+b\n",
        "  product = a*b\n",
        "  return sum,product\n",
        "\n",
        "num1 = 6\n",
        "num2 = 10\n",
        "sum_result , product_result = sum_and_product(num1,num2)\n",
        "print(sum_result)\n",
        "print(product_result)"
      ],
      "metadata": {
        "colab": {
          "base_uri": "https://localhost:8080/"
        },
        "id": "ib42qzs-DvsB",
        "outputId": "21117cca-d4a7-4699-a7a0-22f3dcf740e4"
      },
      "execution_count": 42,
      "outputs": [
        {
          "output_type": "stream",
          "name": "stdout",
          "text": [
            "16\n",
            "60\n"
          ]
        }
      ]
    },
    {
      "cell_type": "markdown",
      "source": [
        "### **Nested Function**\n",
        "\n"
      ],
      "metadata": {
        "id": "U8mLXHWZFt9T"
      }
    },
    {
      "cell_type": "code",
      "source": [
        "def calculator(x,y):\n",
        "  def add(x,y):\n",
        "    return x+y\n",
        "  def multiply(x,y):\n",
        "    return x*y\n",
        "  def calc(op,x,y):\n",
        "    if op == \"add\":\n",
        "      return add(x,y)\n",
        "    else:\n",
        "      return multiply(x,y)\n",
        "\n",
        "  return calc(\"multiply\",x,y) , calc(\"add\",x,y)\n",
        "\n",
        "result = calculator(2,3)\n",
        "print(result)"
      ],
      "metadata": {
        "colab": {
          "base_uri": "https://localhost:8080/"
        },
        "id": "JiUryfYVFcrc",
        "outputId": "54b06d3b-0bb9-4612-ca14-c8508da197ca"
      },
      "execution_count": 46,
      "outputs": [
        {
          "output_type": "stream",
          "name": "stdout",
          "text": [
            "(6, 5)\n"
          ]
        }
      ]
    },
    {
      "cell_type": "code",
      "source": [],
      "metadata": {
        "id": "JjZ7WzyIGXom"
      },
      "execution_count": null,
      "outputs": []
    }
  ]
}